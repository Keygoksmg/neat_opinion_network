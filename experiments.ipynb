{
 "cells": [
  {
   "cell_type": "code",
   "execution_count": 16,
   "id": "0d47bf29-72c9-4978-ba51-21156fbd9b10",
   "metadata": {
    "id": "0d47bf29-72c9-4978-ba51-21156fbd9b10"
   },
   "outputs": [],
   "source": [
    "import networkx as nx\n",
    "import numpy as np\n",
    "import pandas as pd\n",
    "import datetime\n",
    "import plotly.io as pio\n",
    "import matplotlib.pyplot as plt\n",
    "from utils import *\n",
    "from read_networks import *"
   ]
  },
  {
   "cell_type": "code",
   "execution_count": 17,
   "id": "ee5ZkWPjvNwm",
   "metadata": {
    "id": "ee5ZkWPjvNwm"
   },
   "outputs": [],
   "source": [
    "class GraphClass:\n",
    "    # ==== Note: If you change a line here, please check if there's a corresponding line to be updated in the same way in ExperimentClass.add_edges_and_update ==== \n",
    "    \n",
    "    def __init__(self, graph):\n",
    "        print(graph)\n",
    "        self.graph = graph\n",
    "\n",
    "        # create adjacency matrix\n",
    "        self.adj_matrix = nx.to_numpy_array(self.graph)\n",
    "\n",
    "        # == nodes ==\n",
    "        # degree\n",
    "        self.degrees = self.adj_matrix.sum(axis=1).reshape((-1, 1))\n",
    "\n",
    "        # opinion\n",
    "        self.opinions = np.array(list(nx.get_node_attributes(self.graph, \"opinion\").values())).reshape((-1, 1))\n",
    "\n",
    "        # conformity\n",
    "        self.conformity = np.array(list(nx.get_node_attributes(self.graph, \"conformity\").values())).reshape((-1, 1))\n",
    "\n",
    "        # node_centrality\n",
    "        self.node_centrality = np.array(list(nx.get_node_attributes(self.graph, \"node_centrality\").values())).reshape((-1, 1))\n",
    "        \n",
    "        # == edges ==\n",
    "        # weight on edges\n",
    "        self.weight = nx.attr_matrix(self.graph, edge_attr='weight')[0]"
   ]
  },
  {
   "cell_type": "code",
   "execution_count": 19,
   "id": "86538d8b-8b84-4765-9814-2c11e81fd9ce",
   "metadata": {
    "id": "86538d8b-8b84-4765-9814-2c11e81fd9ce"
   },
   "outputs": [],
   "source": [
    "class ExperimentClass(GraphClass):\n",
    "    def __init__(self, graph: nx.Graph, model_name: str, df, init_date: str):\n",
    "        super().__init__(graph)\n",
    "        self.model_name = model_name\n",
    "        self.opinions_per_iter = []\n",
    "        self.avgdiff_per_iter = []\n",
    "        self.opinions_std_per_iter = []\n",
    "        self.df = df\n",
    "        self.current_date = init_date  \n",
    "        \n",
    "    def add_edges_and_update(self, add_edge_list):\n",
    "        self.graph.add_edges_from(add_edge_list)\n",
    "        \n",
    "        # several self params need to be updates with new edges:\n",
    "        # adj_matrix\n",
    "        self.adj_matrix = nx.to_numpy_array(self.graph)\n",
    "        # degrees\n",
    "        self.degrees = self.adj_matrix.sum(axis=1).reshape((-1, 1))\n",
    "        # node_centrality (if estimated by degree),\n",
    "        for node in self.graph.nodes: # may be improved in the future to go through affected nodes only, instead of all nodes\n",
    "            self.graph.nodes[node]['node_centrality'] = 0.01 + self.graph.degree(node)\n",
    "        self.node_centrality = np.array(list(nx.get_node_attributes(self.graph, \"node_centrality\").values())).reshape((-1, 1))\n",
    "        # weight\n",
    "        for item in add_edge_list:\n",
    "            self.graph.edges[item]['weight'] = np.random.rand()\n",
    "        self.weight = nx.attr_matrix(self.graph, edge_attr='weight')[0]\n",
    "        \n",
    "    def grab_new_edges_per_time_step(self, mode='month'):\n",
    "        if mode == 'month':\n",
    "            new_date = get_next_month_first_day(self.current_date)\n",
    "        # can add other time steps here (e.g. multiple months = run the function several times)\n",
    "        else:\n",
    "            new_date = self.current_date\n",
    "        \n",
    "        df_add = section_dataframe(self.df, self.current_date, new_date)\n",
    "        edges_add = df_to_list_of_edges(df_add)\n",
    "        return edges_add, new_date\n",
    "\n",
    "    def run_model(self, steps: int):\n",
    "        self.initial_opinions = self.opinions.copy()\n",
    "\n",
    "        for _ in range(1, steps):\n",
    "            if self.model_name == 'FJ':\n",
    "                # since edge weights have not been well maintained, use node centrality nc_i as w_ii and nc_j as w_ij\n",
    "                new_opinions = (self.adj_matrix @ (self.node_centrality * self.opinions) + self.node_centrality * self.initial_opinions) / (self.adj_matrix @ self.node_centrality + self.node_centrality + 0.001)\n",
    "            elif self.model_name == 'Abebe':\n",
    "                new_opinions = self.conformity * self.opinions + (1 - self.conformity) * (self.adj_matrix @ self.opinions) / (self.degrees + 0.001)\n",
    "            elif self.model_name == 'new':\n",
    "                new_opinions = self.conformity * self.opinions + (1 - self.conformity) * (self.adj_matrix @ (self.node_centrality * self.opinions)) / ((self.adj_matrix @ self.node_centrality) + 0.001)\n",
    "\n",
    "            # print(new_opinions)\n",
    "            # print(self.opinions)\n",
    "            #print(new_opinions)\n",
    "            difference = np.abs(new_opinions - self.opinions)\n",
    "            avg_difference = difference.sum() / len(self.opinions)\n",
    "            \n",
    "            # statistics of each iteration\n",
    "            self.opinions_per_iter.append(new_opinions)\n",
    "            self.avgdiff_per_iter.append(avg_difference) # avg difference from last iter\n",
    "            self.opinions_std_per_iter.append(np.std(new_opinions)) # std of opinions\n",
    "            #print(np.std(new_opinions))\n",
    "            \n",
    "            # update graph\n",
    "            self._update_graph(new_opinions)\n",
    "\n",
    "    def _update_graph(self, new_opinions):\n",
    "        for i, node in enumerate(self.graph.nodes):\n",
    "            self.graph.nodes[node]['opinion'] = new_opinions[i][0]\n",
    "        \n",
    "        self.opinions = np.array(list(nx.get_node_attributes(self.graph, \"opinion\").values())).reshape((-1, 1))\n",
    "        # ==== TBD: also update susceptability at each iteration ====\n",
    "        \n",
    "        # grab the new edges to be added, and update current date/time\n",
    "        new_edges_list, new_date = self.grab_new_edges_per_time_step()\n",
    "        print('Added # edges', len(new_edges_list))\n",
    "        print(new_date)\n",
    "        self.add_edges_and_update(new_edges_list)\n",
    "        self.current_date = new_date\n",
    "\n",
    "    def plot(self):\n",
    "        # plot each time of sum of opinions\n",
    "        fig, ax = plt.subplots(figsize=(10, 5))\n",
    "        #ax.plot(np.array(self.opinions_std_per_iter).sum(axis=1))\n",
    "        ax.plot(np.array(self.opinions_std_per_iter))\n",
    "        #print(np.array(self.opinions_per_iter).sum(axis=1))\n",
    "        ax.set_xlabel('time')\n",
    "        ax.set_ylabel('std of opinions')\n",
    "        ax.set_title(f'Standard Deviation of opinions over time ({self.model_name})')\n",
    "        plt.show()\n",
    "\n",
    "    def get_opinions_per_iter(self):\n",
    "        return self.opinions_per_iter\n",
    "    def get_avgdiff_per_iter(self):\n",
    "        return self.avgdiff_per_iter\n",
    "    def get_opinions_std_per_iter(self):\n",
    "        return self.opinions_std_per_iter"
   ]
  },
  {
   "cell_type": "code",
   "execution_count": 20,
   "id": "ZlY7XA-MvNwm",
   "metadata": {
    "id": "ZlY7XA-MvNwm",
    "outputId": "a5aa6ea2-cc2b-47dc-bea1-26a3ddc8a46e"
   },
   "outputs": [
    {
     "name": "stdout",
     "output_type": "stream",
     "text": [
      "Graph with 2288 nodes and 5677 edges is_directed: False\n",
      "Graph with 2288 nodes and 127 edges is_directed: False\n",
      "Graph with 2288 nodes and 5677 edges\n",
      "2019-03-01\n"
     ]
    }
   ],
   "source": [
    "from read_networks import read_combined_graph_from_csv, read_citation_graph_from_edgelist\n",
    "\n",
    "# g = nx.erdos_renyi_graph(n=100, p=0.5, seed=42)  # random graph\n",
    "#g = read_citation_graph_from_edgelist (field='History', graph=nx.Graph())\n",
    "g_simple, g_init, init_date, df = read_combined_graph_from_csv(\n",
    "    field='History',\n",
    "    init_cutoff_date = '2019-03-01',\n",
    "    graph=nx.Graph())\n",
    "print(g_simple, f\"is_directed: {g_simple.is_directed()}\")\n",
    "print(g_init, f\"is_directed: {g_init.is_directed()}\")\n",
    "print(g_simple)\n",
    "print(init_date)"
   ]
  },
  {
   "cell_type": "code",
   "execution_count": 21,
   "id": "4a035175",
   "metadata": {},
   "outputs": [],
   "source": [
    "def create_graph(random_seed=42):\n",
    "    np.random.seed(random_seed)\n",
    "    \n",
    "    # g = nx.erdos_renyi_graph(n=100, p=0.5, seed=42)  # random graph\n",
    "    # g = read_citation_graph_from_edgelist (field='History', graph=nx.Graph())\n",
    "    g_simple, g_init, init_date, df = read_combined_graph_from_csv(field='History', init_cutoff_date = '2019-03-31', graph=nx.Graph())\n",
    "    print(g_simple)\n",
    "    print(g_init)\n",
    "    \n",
    "    # add node properties such as weight and opinion\n",
    "    # ==== Note: If you change a line here, please check if there's a corresponding line to be updated in the same way in ExperimentClass.add_edges_and_update ==== \n",
    "\n",
    "    for node in g_init.nodes:\n",
    "        g_init.nodes[node]['opinion'] = 0\n",
    "\n",
    "    # Initialize with a given timpstamp.\n",
    "    # If nodes are connected before this timestamp, they share a same init opinion.\n",
    "    for node in g_init.nodes:\n",
    "        has_opinion_flag = False\n",
    "        for init_nbr in g_init.neighbors(node):\n",
    "            if g_init.nodes[init_nbr]['opinion'] != 0:\n",
    "                g_init.nodes[node]['opinion'] = g_init.nodes[init_nbr]['opinion']\n",
    "                has_opinion_flag = True\n",
    "                break\n",
    "        if not has_opinion_flag:\n",
    "            # use gaussian distribution\n",
    "            g_init.nodes[node]['opinion'] = np.random.normal(0.5, 0.1)\n",
    "        # print(g_init.nodes[node]['opinion'])\n",
    "\n",
    "        g_init.nodes[node]['conformity'] = np.random.uniform(0, 1)\n",
    "        g_init.nodes[node]['node_centrality'] = 0.01 + g_init.degree(node) # approx by citations\n",
    "    \n",
    "\n",
    "    # add edge weight\n",
    "    for e1, e2 in g_init.edges:\n",
    "        g_init.edges[e1, e2]['weight'] = np.random.rand()\n",
    "        # g_init.edges[e1, e2]['weight'] = np.random.rand()\n",
    "    \n",
    "    return g_simple, g_init, init_date, df\n",
    "\n",
    "# # display thier properties\n",
    "# for node in g.nodes:\n",
    "#     print(g.nodes[node])"
   ]
  },
  {
   "cell_type": "code",
   "execution_count": 22,
   "id": "f6f10fa4",
   "metadata": {},
   "outputs": [
    {
     "name": "stdout",
     "output_type": "stream",
     "text": [
      "Graph with 2288 nodes and 5677 edges\n",
      "Graph with 2288 nodes and 173 edges\n",
      "Graph with 2288 nodes and 173 edges\n",
      "Added # edges 0\n",
      "2019-04-01\n",
      "Added # edges 25\n",
      "2019-05-01\n",
      "Added # edges 22\n",
      "2019-06-01\n",
      "Added # edges 135\n",
      "2019-07-01\n",
      "Added # edges 105\n",
      "2019-08-01\n",
      "Added # edges 101\n",
      "2019-09-01\n",
      "Added # edges 184\n",
      "2019-10-01\n",
      "Added # edges 77\n",
      "2019-11-01\n",
      "Added # edges 190\n",
      "2019-12-01\n",
      "Added # edges 196\n",
      "2020-01-01\n",
      "Added # edges 396\n",
      "2020-02-01\n",
      "Added # edges 277\n",
      "2020-03-01\n",
      "Added # edges 152\n",
      "2020-04-01\n",
      "Added # edges 61\n",
      "2020-05-01\n",
      "Added # edges 206\n",
      "2020-06-01\n",
      "Added # edges 581\n",
      "2020-07-01\n",
      "Added # edges 407\n",
      "2020-08-01\n",
      "Added # edges 114\n",
      "2020-09-01\n",
      "Added # edges 467\n",
      "2020-10-01\n",
      "Added # edges 394\n",
      "2020-11-01\n",
      "Added # edges 1401\n",
      "2020-12-01\n",
      "Added # edges 403\n",
      "2021-01-01\n",
      "Added # edges 0\n",
      "2021-02-01\n",
      "Added # edges 0\n",
      "2021-03-01\n",
      "Added # edges 0\n",
      "2021-04-01\n",
      "Added # edges 0\n",
      "2021-05-01\n",
      "Added # edges 0\n",
      "2021-06-01\n",
      "Added # edges 0\n",
      "2021-07-01\n",
      "Added # edges 0\n",
      "2021-08-01\n",
      "[0.24361804786119745, 0.07963301775423126, 0.039915099513324996, 0.02442734779446873, 0.017135865616572866, 0.013027232562351188, 0.01026512736313808, 0.008859863188248825, 0.00817753765810195, 0.006455936844606456, 0.00724853703767421, 0.008756573911531916, 0.006881170373509619, 0.006139002339955887, 0.005708702235332035, 0.004660679459342058, 0.006307638679259997, 0.008231302949053117, 0.006089299502190872, 0.006636055243133513, 0.006478244785829912, 0.008156854627775488, 0.009721141555273989, 0.005931389424931286, 0.004815536156383088, 0.003971528831034807, 0.00359478972231361, 0.0032574524328325065, 0.0029961937445333736]\n",
      "[0.1637538405649653, 0.16887847484424254, 0.1638180117127329, 0.1576319172405495, 0.1521564886802579, 0.14807524698332997, 0.14502108531984714, 0.14159880384866183, 0.1390985341856364, 0.13733347901850707, 0.13540839015402598, 0.13136576098069697, 0.12817967167330274, 0.1271017580555406, 0.12491717866382361, 0.12333051389323432, 0.12162926798017953, 0.11829499784779311, 0.11631528358179964, 0.11418522197806462, 0.11170591871614427, 0.10760351295585738, 0.10356495676178246, 0.10128830767841424, 0.09948553889567942, 0.09797315976881829, 0.09667994536567695, 0.09554906298243497, 0.09455617025707809]\n"
     ]
    },
    {
     "data": {
      "image/png": "[encoded data removed]",
      "text/plain": [
       "<Figure size 1000x500 with 1 Axes>"
      ]
     },
     "metadata": {},
     "output_type": "display_data"
    },
    {
     "name": "stdout",
     "output_type": "stream",
     "text": [
      "Graph with 2288 nodes and 173 edges\n",
      "Added # edges 0\n",
      "2019-04-01\n",
      "Added # edges 25\n",
      "2019-05-01\n",
      "Added # edges 22\n",
      "2019-06-01\n",
      "Added # edges 135\n",
      "2019-07-01\n",
      "Added # edges 105\n",
      "2019-08-01\n",
      "Added # edges 101\n",
      "2019-09-01\n",
      "Added # edges 184\n",
      "2019-10-01\n",
      "Added # edges 77\n",
      "2019-11-01\n",
      "Added # edges 190\n",
      "2019-12-01\n",
      "Added # edges 196\n",
      "2020-01-01\n",
      "Added # edges 396\n",
      "2020-02-01\n",
      "Added # edges 277\n",
      "2020-03-01\n",
      "Added # edges 152\n",
      "2020-04-01\n",
      "Added # edges 61\n",
      "2020-05-01\n",
      "Added # edges 206\n",
      "2020-06-01\n",
      "Added # edges 581\n",
      "2020-07-01\n",
      "Added # edges 407\n",
      "2020-08-01\n",
      "Added # edges 114\n",
      "2020-09-01\n",
      "Added # edges 467\n",
      "2020-10-01\n",
      "Added # edges 394\n",
      "2020-11-01\n",
      "Added # edges 1401\n",
      "2020-12-01\n",
      "Added # edges 403\n",
      "2021-01-01\n",
      "Added # edges 0\n",
      "2021-02-01\n",
      "Added # edges 0\n",
      "2021-03-01\n",
      "Added # edges 0\n",
      "2021-04-01\n",
      "Added # edges 0\n",
      "2021-05-01\n",
      "Added # edges 0\n",
      "2021-06-01\n",
      "Added # edges 0\n",
      "2021-07-01\n",
      "Added # edges 0\n",
      "2021-08-01\n",
      "[0.24360005345531524, 0.07962985203879386, 0.03988013522980296, 0.024444987159198826, 0.017233248918422834, 0.01304226653349195, 0.01036717605445894, 0.009000274434040627, 0.00822324342511868, 0.0065326442356375075, 0.00736000487309271, 0.008875117994034652, 0.0071903138423959415, 0.006559184271674868, 0.0062490044613244256, 0.00512688933075678, 0.0068871027880233375, 0.009767822055659642, 0.006993335880329016, 0.007423985270187369, 0.00700217132097351, 0.009007926199939401, 0.011100594520266193, 0.006326640274236787, 0.005034509853258181, 0.004113581457433288, 0.0036727737954298434, 0.003284170055647084, 0.0030077625080700684]\n",
      "[0.16381475454552355, 0.16898661353007421, 0.16398722759105785, 0.15787654547126934, 0.1525096229254402, 0.14857452192568185, 0.1457086455517473, 0.1424869007643068, 0.14017749232908874, 0.13852733215342258, 0.1369132659401042, 0.13357566695417789, 0.1303388858853687, 0.12939807122540645, 0.1271851779037942, 0.12547871658662346, 0.12381443587251156, 0.12011141763114944, 0.11842394000476777, 0.1164177905460883, 0.11371155907880798, 0.10885646737762328, 0.10421122329708127, 0.10180285230758579, 0.09982547701041754, 0.09821077066609163, 0.0967976793025637, 0.09556443331071483, 0.09446581183203803]\n"
     ]
    },
    {
     "data": {
      "image/png": "[encoded data removed]",
      "text/plain": [
       "<Figure size 1000x500 with 1 Axes>"
      ]
     },
     "metadata": {},
     "output_type": "display_data"
    },
    {
     "data": {
      "application/vnd.plotly.v1+json": {
       "config": {
        "plotlyServerURL": "https://plot.ly"
       },
       "data": [
        {
         "mode": "lines",
         "name": "Abebe",
         "type": "scatter",
         "x": [
          1,
          2,
          3,
          4,
          5,
          6,
          7,
          8,
          9,
          10,
          11,
          12,
          13,
          14,
          15,
          16,
          17,
          18,
          19,
          20,
          21,
          22,
          23,
          24,
          25,
          26,
          27,
          28,
          29
         ],
         "y": [
          0.1637538405649653,
          0.16887847484424254,
          0.1638180117127329,
          0.1576319172405495,
          0.1521564886802579,
          0.14807524698332997,
          0.14502108531984714,
          0.14159880384866183,
          0.1390985341856364,
          0.13733347901850707,
          0.13540839015402598,
          0.13136576098069697,
          0.12817967167330274,
          0.1271017580555406,
          0.12491717866382361,
          0.12333051389323432,
          0.12162926798017953,
          0.11829499784779311,
          0.11631528358179964,
          0.11418522197806462,
          0.11170591871614427,
          0.10760351295585738,
          0.10356495676178246,
          0.10128830767841424,
          0.09948553889567942,
          0.09797315976881829,
          0.09667994536567695,
          0.09554906298243497,
          0.09455617025707809
         ]
        },
        {
         "mode": "lines",
         "name": "new",
         "type": "scatter",
         "x": [
          1,
          2,
          3,
          4,
          5,
          6,
          7,
          8,
          9,
          10,
          11,
          12,
          13,
          14,
          15,
          16,
          17,
          18,
          19,
          20,
          21,
          22,
          23,
          24,
          25,
          26,
          27,
          28,
          29
         ],
         "y": [
          0.16381475454552355,
          0.16898661353007421,
          0.16398722759105785,
          0.15787654547126934,
          0.1525096229254402,
          0.14857452192568185,
          0.1457086455517473,
          0.1424869007643068,
          0.14017749232908874,
          0.13852733215342258,
          0.1369132659401042,
          0.13357566695417789,
          0.1303388858853687,
          0.12939807122540645,
          0.1271851779037942,
          0.12547871658662346,
          0.12381443587251156,
          0.12011141763114944,
          0.11842394000476777,
          0.1164177905460883,
          0.11371155907880798,
          0.10885646737762328,
          0.10421122329708127,
          0.10180285230758579,
          0.09982547701041754,
          0.09821077066609163,
          0.0967976793025637,
          0.09556443331071483,
          0.09446581183203803
         ]
        }
       ],
       "layout": {
        "height": 400,
        "legend": {
         "x": 0.99,
         "xanchor": "right",
         "y": 0.99,
         "yanchor": "top"
        },
        "template": {
         "data": {
          "bar": [
           {
            "error_x": {
             "color": "#2a3f5f"
            },
            "error_y": {
             "color": "#2a3f5f"
            },
            "marker": {
             "line": {
              "color": "#E5ECF6",
              "width": 0.5
             },
             "pattern": {
              "fillmode": "overlay",
              "size": 10,
              "solidity": 0.2
             }
            },
            "type": "bar"
           }
          ],
          "barpolar": [
           {
            "marker": {
             "line": {
              "color": "#E5ECF6",
              "width": 0.5
             },
             "pattern": {
              "fillmode": "overlay",
              "size": 10,
              "solidity": 0.2
             }
            },
            "type": "barpolar"
           }
          ],
          "carpet": [
           {
            "aaxis": {
             "endlinecolor": "#2a3f5f",
             "gridcolor": "white",
             "linecolor": "white",
             "minorgridcolor": "white",
             "startlinecolor": "#2a3f5f"
            },
            "baxis": {
             "endlinecolor": "#2a3f5f",
             "gridcolor": "white",
             "linecolor": "white",
             "minorgridcolor": "white",
             "startlinecolor": "#2a3f5f"
            },
            "type": "carpet"
           }
          ],
          "choropleth": [
           {
            "colorbar": {
             "outlinewidth": 0,
             "ticks": ""
            },
            "type": "choropleth"
           }
          ],
          "contour": [
           {
            "colorbar": {
             "outlinewidth": 0,
             "ticks": ""
            },
            "colorscale": [
             [
              0,
              "#0d0887"
             ],
             [
              0.1111111111111111,
              "#46039f"
             ],
             [
              0.2222222222222222,
              "#7201a8"
             ],
             [
              0.3333333333333333,
              "#9c179e"
             ],
             [
              0.4444444444444444,
              "#bd3786"
             ],
             [
              0.5555555555555556,
              "#d8576b"
             ],
             [
              0.6666666666666666,
              "#ed7953"
             ],
             [
              0.7777777777777778,
              "#fb9f3a"
             ],
             [
              0.8888888888888888,
              "#fdca26"
             ],
             [
              1,
              "#f0f921"
             ]
            ],
            "type": "contour"
           }
          ],
          "contourcarpet": [
           {
            "colorbar": {
             "outlinewidth": 0,
             "ticks": ""
            },
            "type": "contourcarpet"
           }
          ],
          "heatmap": [
           {
            "colorbar": {
             "outlinewidth": 0,
             "ticks": ""
            },
            "colorscale": [
             [
              0,
              "#0d0887"
             ],
             [
              0.1111111111111111,
              "#46039f"
             ],
             [
              0.2222222222222222,
              "#7201a8"
             ],
             [
              0.3333333333333333,
              "#9c179e"
             ],
             [
              0.4444444444444444,
              "#bd3786"
             ],
             [
              0.5555555555555556,
              "#d8576b"
             ],
             [
              0.6666666666666666,
              "#ed7953"
             ],
             [
              0.7777777777777778,
              "#fb9f3a"
             ],
             [
              0.8888888888888888,
              "#fdca26"
             ],
             [
              1,
              "#f0f921"
             ]
            ],
            "type": "heatmap"
           }
          ],
          "heatmapgl": [
           {
            "colorbar": {
             "outlinewidth": 0,
             "ticks": ""
            },
            "colorscale": [
             [
              0,
              "#0d0887"
             ],
             [
              0.1111111111111111,
              "#46039f"
             ],
             [
              0.2222222222222222,
              "#7201a8"
             ],
             [
              0.3333333333333333,
              "#9c179e"
             ],
             [
              0.4444444444444444,
              "#bd3786"
             ],
             [
              0.5555555555555556,
              "#d8576b"
             ],
             [
              0.6666666666666666,
              "#ed7953"
             ],
             [
              0.7777777777777778,
              "#fb9f3a"
             ],
             [
              0.8888888888888888,
              "#fdca26"
             ],
             [
              1,
              "#f0f921"
             ]
            ],
            "type": "heatmapgl"
           }
          ],
          "histogram": [
           {
            "marker": {
             "pattern": {
              "fillmode": "overlay",
              "size": 10,
              "solidity": 0.2
             }
            },
            "type": "histogram"
           }
          ],
          "histogram2d": [
           {
            "colorbar": {
             "outlinewidth": 0,
             "ticks": ""
            },
            "colorscale": [
             [
              0,
              "#0d0887"
             ],
             [
              0.1111111111111111,
              "#46039f"
             ],
             [
              0.2222222222222222,
              "#7201a8"
             ],
             [
              0.3333333333333333,
              "#9c179e"
             ],
             [
              0.4444444444444444,
              "#bd3786"
             ],
             [
              0.5555555555555556,
              "#d8576b"
             ],
             [
              0.6666666666666666,
              "#ed7953"
             ],
             [
              0.7777777777777778,
              "#fb9f3a"
             ],
             [
              0.8888888888888888,
              "#fdca26"
             ],
             [
              1,
              "#f0f921"
             ]
            ],
            "type": "histogram2d"
           }
          ],
          "histogram2dcontour": [
           {
            "colorbar": {
             "outlinewidth": 0,
             "ticks": ""
            },
            "colorscale": [
             [
              0,
              "#0d0887"
             ],
             [
              0.1111111111111111,
              "#46039f"
             ],
             [
              0.2222222222222222,
              "#7201a8"
             ],
             [
              0.3333333333333333,
              "#9c179e"
             ],
             [
              0.4444444444444444,
              "#bd3786"
             ],
             [
              0.5555555555555556,
              "#d8576b"
             ],
             [
              0.6666666666666666,
              "#ed7953"
             ],
             [
              0.7777777777777778,
              "#fb9f3a"
             ],
             [
              0.8888888888888888,
              "#fdca26"
             ],
             [
              1,
              "#f0f921"
             ]
            ],
            "type": "histogram2dcontour"
           }
          ],
          "mesh3d": [
           {
            "colorbar": {
             "outlinewidth": 0,
             "ticks": ""
            },
            "type": "mesh3d"
           }
          ],
          "parcoords": [
           {
            "line": {
             "colorbar": {
              "outlinewidth": 0,
              "ticks": ""
             }
            },
            "type": "parcoords"
           }
          ],
          "pie": [
           {
            "automargin": true,
            "type": "pie"
           }
          ],
          "scatter": [
           {
            "fillpattern": {
             "fillmode": "overlay",
             "size": 10,
             "solidity": 0.2
            },
            "type": "scatter"
           }
          ],
          "scatter3d": [
           {
            "line": {
             "colorbar": {
              "outlinewidth": 0,
              "ticks": ""
             }
            },
            "marker": {
             "colorbar": {
              "outlinewidth": 0,
              "ticks": ""
             }
            },
            "type": "scatter3d"
           }
          ],
          "scattercarpet": [
           {
            "marker": {
             "colorbar": {
              "outlinewidth": 0,
              "ticks": ""
             }
            },
            "type": "scattercarpet"
           }
          ],
          "scattergeo": [
           {
            "marker": {
             "colorbar": {
              "outlinewidth": 0,
              "ticks": ""
             }
            },
            "type": "scattergeo"
           }
          ],
          "scattergl": [
           {
            "marker": {
             "colorbar": {
              "outlinewidth": 0,
              "ticks": ""
             }
            },
            "type": "scattergl"
           }
          ],
          "scattermapbox": [
           {
            "marker": {
             "colorbar": {
              "outlinewidth": 0,
              "ticks": ""
             }
            },
            "type": "scattermapbox"
           }
          ],
          "scatterpolar": [
           {
            "marker": {
             "colorbar": {
              "outlinewidth": 0,
              "ticks": ""
             }
            },
            "type": "scatterpolar"
           }
          ],
          "scatterpolargl": [
           {
            "marker": {
             "colorbar": {
              "outlinewidth": 0,
              "ticks": ""
             }
            },
            "type": "scatterpolargl"
           }
          ],
          "scatterternary": [
           {
            "marker": {
             "colorbar": {
              "outlinewidth": 0,
              "ticks": ""
             }
            },
            "type": "scatterternary"
           }
          ],
          "surface": [
           {
            "colorbar": {
             "outlinewidth": 0,
             "ticks": ""
            },
            "colorscale": [
             [
              0,
              "#0d0887"
             ],
             [
              0.1111111111111111,
              "#46039f"
             ],
             [
              0.2222222222222222,
              "#7201a8"
             ],
             [
              0.3333333333333333,
              "#9c179e"
             ],
             [
              0.4444444444444444,
              "#bd3786"
             ],
             [
              0.5555555555555556,
              "#d8576b"
             ],
             [
              0.6666666666666666,
              "#ed7953"
             ],
             [
              0.7777777777777778,
              "#fb9f3a"
             ],
             [
              0.8888888888888888,
              "#fdca26"
             ],
             [
              1,
              "#f0f921"
             ]
            ],
            "type": "surface"
           }
          ],
          "table": [
           {
            "cells": {
             "fill": {
              "color": "#EBF0F8"
             },
             "line": {
              "color": "white"
             }
            },
            "header": {
             "fill": {
              "color": "#C8D4E3"
             },
             "line": {
              "color": "white"
             }
            },
            "type": "table"
           }
          ]
         },
         "layout": {
          "annotationdefaults": {
           "arrowcolor": "#2a3f5f",
           "arrowhead": 0,
           "arrowwidth": 1
          },
          "autotypenumbers": "strict",
          "coloraxis": {
           "colorbar": {
            "outlinewidth": 0,
            "ticks": ""
           }
          },
          "colorscale": {
           "diverging": [
            [
             0,
             "#8e0152"
            ],
            [
             0.1,
             "#c51b7d"
            ],
            [
             0.2,
             "#de77ae"
            ],
            [
             0.3,
             "#f1b6da"
            ],
            [
             0.4,
             "#fde0ef"
            ],
            [
             0.5,
             "#f7f7f7"
            ],
            [
             0.6,
             "#e6f5d0"
            ],
            [
             0.7,
             "#b8e186"
            ],
            [
             0.8,
             "#7fbc41"
            ],
            [
             0.9,
             "#4d9221"
            ],
            [
             1,
             "#276419"
            ]
           ],
           "sequential": [
            [
             0,
             "#0d0887"
            ],
            [
             0.1111111111111111,
             "#46039f"
            ],
            [
             0.2222222222222222,
             "#7201a8"
            ],
            [
             0.3333333333333333,
             "#9c179e"
            ],
            [
             0.4444444444444444,
             "#bd3786"
            ],
            [
             0.5555555555555556,
             "#d8576b"
            ],
            [
             0.6666666666666666,
             "#ed7953"
            ],
            [
             0.7777777777777778,
             "#fb9f3a"
            ],
            [
             0.8888888888888888,
             "#fdca26"
            ],
            [
             1,
             "#f0f921"
            ]
           ],
           "sequentialminus": [
            [
             0,
             "#0d0887"
            ],
            [
             0.1111111111111111,
             "#46039f"
            ],
            [
             0.2222222222222222,
             "#7201a8"
            ],
            [
             0.3333333333333333,
             "#9c179e"
            ],
            [
             0.4444444444444444,
             "#bd3786"
            ],
            [
             0.5555555555555556,
             "#d8576b"
            ],
            [
             0.6666666666666666,
             "#ed7953"
            ],
            [
             0.7777777777777778,
             "#fb9f3a"
            ],
            [
             0.8888888888888888,
             "#fdca26"
            ],
            [
             1,
             "#f0f921"
            ]
           ]
          },
          "colorway": [
           "#636efa",
           "#EF553B",
           "#00cc96",
           "#ab63fa",
           "#FFA15A",
           "#19d3f3",
           "#FF6692",
           "#B6E880",
           "#FF97FF",
           "#FECB52"
          ],
          "font": {
           "color": "#2a3f5f"
          },
          "geo": {
           "bgcolor": "white",
           "lakecolor": "white",
           "landcolor": "#E5ECF6",
           "showlakes": true,
           "showland": true,
           "subunitcolor": "white"
          },
          "hoverlabel": {
           "align": "left"
          },
          "hovermode": "closest",
          "mapbox": {
           "style": "light"
          },
          "paper_bgcolor": "white",
          "plot_bgcolor": "#E5ECF6",
          "polar": {
           "angularaxis": {
            "gridcolor": "white",
            "linecolor": "white",
            "ticks": ""
           },
           "bgcolor": "#E5ECF6",
           "radialaxis": {
            "gridcolor": "white",
            "linecolor": "white",
            "ticks": ""
           }
          },
          "scene": {
           "xaxis": {
            "backgroundcolor": "#E5ECF6",
            "gridcolor": "white",
            "gridwidth": 2,
            "linecolor": "white",
            "showbackground": true,
            "ticks": "",
            "zerolinecolor": "white"
           },
           "yaxis": {
            "backgroundcolor": "#E5ECF6",
            "gridcolor": "white",
            "gridwidth": 2,
            "linecolor": "white",
            "showbackground": true,
            "ticks": "",
            "zerolinecolor": "white"
           },
           "zaxis": {
            "backgroundcolor": "#E5ECF6",
            "gridcolor": "white",
            "gridwidth": 2,
            "linecolor": "white",
            "showbackground": true,
            "ticks": "",
            "zerolinecolor": "white"
           }
          },
          "shapedefaults": {
           "line": {
            "color": "#2a3f5f"
           }
          },
          "ternary": {
           "aaxis": {
            "gridcolor": "white",
            "linecolor": "white",
            "ticks": ""
           },
           "baxis": {
            "gridcolor": "white",
            "linecolor": "white",
            "ticks": ""
           },
           "bgcolor": "#E5ECF6",
           "caxis": {
            "gridcolor": "white",
            "linecolor": "white",
            "ticks": ""
           }
          },
          "title": {
           "x": 0.05
          },
          "xaxis": {
           "automargin": true,
           "gridcolor": "white",
           "linecolor": "white",
           "ticks": "",
           "title": {
            "standoff": 15
           },
           "zerolinecolor": "white",
           "zerolinewidth": 2
          },
          "yaxis": {
           "automargin": true,
           "gridcolor": "white",
           "linecolor": "white",
           "ticks": "",
           "title": {
            "standoff": 15
           },
           "zerolinecolor": "white",
           "zerolinewidth": 2
          }
         }
        },
        "title": {
         "text": "Opinions Std over time",
         "x": 0.5,
         "y": 0.85
        },
        "width": 600,
        "xaxis": {
         "dtick": 1,
         "title": {
          "text": "step"
         }
        },
        "yaxis": {
         "title": {
          "text": "Avg difference in opinions"
         }
        }
       }
      },
      "text/html": [
       "<div>                            <div id=\"be858d0f-d9dc-4f73-90d7-2c720e622e11\" class=\"plotly-graph-div\" style=\"height:400px; width:600px;\"></div>            <script type=\"text/javascript\">                require([\"plotly\"], function(Plotly) {                    window.PLOTLYENV=window.PLOTLYENV || {};                                    if (document.getElementById(\"be858d0f-d9dc-4f73-90d7-2c720e622e11\")) {                    Plotly.newPlot(                        \"be858d0f-d9dc-4f73-90d7-2c720e622e11\",                        [{\"mode\":\"lines\",\"name\":\"Abebe\",\"x\":[1,2,3,4,5,6,7,8,9,10,11,12,13,14,15,16,17,18,19,20,21,22,23,24,25,26,27,28,29],\"y\":[0.1637538405649653,0.16887847484424254,0.1638180117127329,0.1576319172405495,0.1521564886802579,0.14807524698332997,0.14502108531984714,0.14159880384866183,0.1390985341856364,0.13733347901850707,0.13540839015402598,0.13136576098069697,0.12817967167330274,0.1271017580555406,0.12491717866382361,0.12333051389323432,0.12162926798017953,0.11829499784779311,0.11631528358179964,0.11418522197806462,0.11170591871614427,0.10760351295585738,0.10356495676178246,0.10128830767841424,0.09948553889567942,0.09797315976881829,0.09667994536567695,0.09554906298243497,0.09455617025707809],\"type\":\"scatter\"},{\"mode\":\"lines\",\"name\":\"new\",\"x\":[1,2,3,4,5,6,7,8,9,10,11,12,13,14,15,16,17,18,19,20,21,22,23,24,25,26,27,28,29],\"y\":[0.16381475454552355,0.16898661353007421,0.16398722759105785,0.15787654547126934,0.1525096229254402,0.14857452192568185,0.1457086455517473,0.1424869007643068,0.14017749232908874,0.13852733215342258,0.1369132659401042,0.13357566695417789,0.1303388858853687,0.12939807122540645,0.1271851779037942,0.12547871658662346,0.12381443587251156,0.12011141763114944,0.11842394000476777,0.1164177905460883,0.11371155907880798,0.10885646737762328,0.10421122329708127,0.10180285230758579,0.09982547701041754,0.09821077066609163,0.0967976793025637,0.09556443331071483,0.09446581183203803],\"type\":\"scatter\"}],                        {\"template\":{\"data\":{\"histogram2dcontour\":[{\"type\":\"histogram2dcontour\",\"colorbar\":{\"outlinewidth\":0,\"ticks\":\"\"},\"colorscale\":[[0.0,\"#0d0887\"],[0.1111111111111111,\"#46039f\"],[0.2222222222222222,\"#7201a8\"],[0.3333333333333333,\"#9c179e\"],[0.4444444444444444,\"#bd3786\"],[0.5555555555555556,\"#d8576b\"],[0.6666666666666666,\"#ed7953\"],[0.7777777777777778,\"#fb9f3a\"],[0.8888888888888888,\"#fdca26\"],[1.0,\"#f0f921\"]]}],\"choropleth\":[{\"type\":\"choropleth\",\"colorbar\":{\"outlinewidth\":0,\"ticks\":\"\"}}],\"histogram2d\":[{\"type\":\"histogram2d\",\"colorbar\":{\"outlinewidth\":0,\"ticks\":\"\"},\"colorscale\":[[0.0,\"#0d0887\"],[0.1111111111111111,\"#46039f\"],[0.2222222222222222,\"#7201a8\"],[0.3333333333333333,\"#9c179e\"],[0.4444444444444444,\"#bd3786\"],[0.5555555555555556,\"#d8576b\"],[0.6666666666666666,\"#ed7953\"],[0.7777777777777778,\"#fb9f3a\"],[0.8888888888888888,\"#fdca26\"],[1.0,\"#f0f921\"]]}],\"heatmap\":[{\"type\":\"heatmap\",\"colorbar\":{\"outlinewidth\":0,\"ticks\":\"\"},\"colorscale\":[[0.0,\"#0d0887\"],[0.1111111111111111,\"#46039f\"],[0.2222222222222222,\"#7201a8\"],[0.3333333333333333,\"#9c179e\"],[0.4444444444444444,\"#bd3786\"],[0.5555555555555556,\"#d8576b\"],[0.6666666666666666,\"#ed7953\"],[0.7777777777777778,\"#fb9f3a\"],[0.8888888888888888,\"#fdca26\"],[1.0,\"#f0f921\"]]}],\"heatmapgl\":[{\"type\":\"heatmapgl\",\"colorbar\":{\"outlinewidth\":0,\"ticks\":\"\"},\"colorscale\":[[0.0,\"#0d0887\"],[0.1111111111111111,\"#46039f\"],[0.2222222222222222,\"#7201a8\"],[0.3333333333333333,\"#9c179e\"],[0.4444444444444444,\"#bd3786\"],[0.5555555555555556,\"#d8576b\"],[0.6666666666666666,\"#ed7953\"],[0.7777777777777778,\"#fb9f3a\"],[0.8888888888888888,\"#fdca26\"],[1.0,\"#f0f921\"]]}],\"contourcarpet\":[{\"type\":\"contourcarpet\",\"colorbar\":{\"outlinewidth\":0,\"ticks\":\"\"}}],\"contour\":[{\"type\":\"contour\",\"colorbar\":{\"outlinewidth\":0,\"ticks\":\"\"},\"colorscale\":[[0.0,\"#0d0887\"],[0.1111111111111111,\"#46039f\"],[0.2222222222222222,\"#7201a8\"],[0.3333333333333333,\"#9c179e\"],[0.4444444444444444,\"#bd3786\"],[0.5555555555555556,\"#d8576b\"],[0.6666666666666666,\"#ed7953\"],[0.7777777777777778,\"#fb9f3a\"],[0.8888888888888888,\"#fdca26\"],[1.0,\"#f0f921\"]]}],\"surface\":[{\"type\":\"surface\",\"colorbar\":{\"outlinewidth\":0,\"ticks\":\"\"},\"colorscale\":[[0.0,\"#0d0887\"],[0.1111111111111111,\"#46039f\"],[0.2222222222222222,\"#7201a8\"],[0.3333333333333333,\"#9c179e\"],[0.4444444444444444,\"#bd3786\"],[0.5555555555555556,\"#d8576b\"],[0.6666666666666666,\"#ed7953\"],[0.7777777777777778,\"#fb9f3a\"],[0.8888888888888888,\"#fdca26\"],[1.0,\"#f0f921\"]]}],\"mesh3d\":[{\"type\":\"mesh3d\",\"colorbar\":{\"outlinewidth\":0,\"ticks\":\"\"}}],\"scatter\":[{\"fillpattern\":{\"fillmode\":\"overlay\",\"size\":10,\"solidity\":0.2},\"type\":\"scatter\"}],\"parcoords\":[{\"type\":\"parcoords\",\"line\":{\"colorbar\":{\"outlinewidth\":0,\"ticks\":\"\"}}}],\"scatterpolargl\":[{\"type\":\"scatterpolargl\",\"marker\":{\"colorbar\":{\"outlinewidth\":0,\"ticks\":\"\"}}}],\"bar\":[{\"error_x\":{\"color\":\"#2a3f5f\"},\"error_y\":{\"color\":\"#2a3f5f\"},\"marker\":{\"line\":{\"color\":\"#E5ECF6\",\"width\":0.5},\"pattern\":{\"fillmode\":\"overlay\",\"size\":10,\"solidity\":0.2}},\"type\":\"bar\"}],\"scattergeo\":[{\"type\":\"scattergeo\",\"marker\":{\"colorbar\":{\"outlinewidth\":0,\"ticks\":\"\"}}}],\"scatterpolar\":[{\"type\":\"scatterpolar\",\"marker\":{\"colorbar\":{\"outlinewidth\":0,\"ticks\":\"\"}}}],\"histogram\":[{\"marker\":{\"pattern\":{\"fillmode\":\"overlay\",\"size\":10,\"solidity\":0.2}},\"type\":\"histogram\"}],\"scattergl\":[{\"type\":\"scattergl\",\"marker\":{\"colorbar\":{\"outlinewidth\":0,\"ticks\":\"\"}}}],\"scatter3d\":[{\"type\":\"scatter3d\",\"line\":{\"colorbar\":{\"outlinewidth\":0,\"ticks\":\"\"}},\"marker\":{\"colorbar\":{\"outlinewidth\":0,\"ticks\":\"\"}}}],\"scattermapbox\":[{\"type\":\"scattermapbox\",\"marker\":{\"colorbar\":{\"outlinewidth\":0,\"ticks\":\"\"}}}],\"scatterternary\":[{\"type\":\"scatterternary\",\"marker\":{\"colorbar\":{\"outlinewidth\":0,\"ticks\":\"\"}}}],\"scattercarpet\":[{\"type\":\"scattercarpet\",\"marker\":{\"colorbar\":{\"outlinewidth\":0,\"ticks\":\"\"}}}],\"carpet\":[{\"aaxis\":{\"endlinecolor\":\"#2a3f5f\",\"gridcolor\":\"white\",\"linecolor\":\"white\",\"minorgridcolor\":\"white\",\"startlinecolor\":\"#2a3f5f\"},\"baxis\":{\"endlinecolor\":\"#2a3f5f\",\"gridcolor\":\"white\",\"linecolor\":\"white\",\"minorgridcolor\":\"white\",\"startlinecolor\":\"#2a3f5f\"},\"type\":\"carpet\"}],\"table\":[{\"cells\":{\"fill\":{\"color\":\"#EBF0F8\"},\"line\":{\"color\":\"white\"}},\"header\":{\"fill\":{\"color\":\"#C8D4E3\"},\"line\":{\"color\":\"white\"}},\"type\":\"table\"}],\"barpolar\":[{\"marker\":{\"line\":{\"color\":\"#E5ECF6\",\"width\":0.5},\"pattern\":{\"fillmode\":\"overlay\",\"size\":10,\"solidity\":0.2}},\"type\":\"barpolar\"}],\"pie\":[{\"automargin\":true,\"type\":\"pie\"}]},\"layout\":{\"autotypenumbers\":\"strict\",\"colorway\":[\"#636efa\",\"#EF553B\",\"#00cc96\",\"#ab63fa\",\"#FFA15A\",\"#19d3f3\",\"#FF6692\",\"#B6E880\",\"#FF97FF\",\"#FECB52\"],\"font\":{\"color\":\"#2a3f5f\"},\"hovermode\":\"closest\",\"hoverlabel\":{\"align\":\"left\"},\"paper_bgcolor\":\"white\",\"plot_bgcolor\":\"#E5ECF6\",\"polar\":{\"bgcolor\":\"#E5ECF6\",\"angularaxis\":{\"gridcolor\":\"white\",\"linecolor\":\"white\",\"ticks\":\"\"},\"radialaxis\":{\"gridcolor\":\"white\",\"linecolor\":\"white\",\"ticks\":\"\"}},\"ternary\":{\"bgcolor\":\"#E5ECF6\",\"aaxis\":{\"gridcolor\":\"white\",\"linecolor\":\"white\",\"ticks\":\"\"},\"baxis\":{\"gridcolor\":\"white\",\"linecolor\":\"white\",\"ticks\":\"\"},\"caxis\":{\"gridcolor\":\"white\",\"linecolor\":\"white\",\"ticks\":\"\"}},\"coloraxis\":{\"colorbar\":{\"outlinewidth\":0,\"ticks\":\"\"}},\"colorscale\":{\"sequential\":[[0.0,\"#0d0887\"],[0.1111111111111111,\"#46039f\"],[0.2222222222222222,\"#7201a8\"],[0.3333333333333333,\"#9c179e\"],[0.4444444444444444,\"#bd3786\"],[0.5555555555555556,\"#d8576b\"],[0.6666666666666666,\"#ed7953\"],[0.7777777777777778,\"#fb9f3a\"],[0.8888888888888888,\"#fdca26\"],[1.0,\"#f0f921\"]],\"sequentialminus\":[[0.0,\"#0d0887\"],[0.1111111111111111,\"#46039f\"],[0.2222222222222222,\"#7201a8\"],[0.3333333333333333,\"#9c179e\"],[0.4444444444444444,\"#bd3786\"],[0.5555555555555556,\"#d8576b\"],[0.6666666666666666,\"#ed7953\"],[0.7777777777777778,\"#fb9f3a\"],[0.8888888888888888,\"#fdca26\"],[1.0,\"#f0f921\"]],\"diverging\":[[0,\"#8e0152\"],[0.1,\"#c51b7d\"],[0.2,\"#de77ae\"],[0.3,\"#f1b6da\"],[0.4,\"#fde0ef\"],[0.5,\"#f7f7f7\"],[0.6,\"#e6f5d0\"],[0.7,\"#b8e186\"],[0.8,\"#7fbc41\"],[0.9,\"#4d9221\"],[1,\"#276419\"]]},\"xaxis\":{\"gridcolor\":\"white\",\"linecolor\":\"white\",\"ticks\":\"\",\"title\":{\"standoff\":15},\"zerolinecolor\":\"white\",\"automargin\":true,\"zerolinewidth\":2},\"yaxis\":{\"gridcolor\":\"white\",\"linecolor\":\"white\",\"ticks\":\"\",\"title\":{\"standoff\":15},\"zerolinecolor\":\"white\",\"automargin\":true,\"zerolinewidth\":2},\"scene\":{\"xaxis\":{\"backgroundcolor\":\"#E5ECF6\",\"gridcolor\":\"white\",\"linecolor\":\"white\",\"showbackground\":true,\"ticks\":\"\",\"zerolinecolor\":\"white\",\"gridwidth\":2},\"yaxis\":{\"backgroundcolor\":\"#E5ECF6\",\"gridcolor\":\"white\",\"linecolor\":\"white\",\"showbackground\":true,\"ticks\":\"\",\"zerolinecolor\":\"white\",\"gridwidth\":2},\"zaxis\":{\"backgroundcolor\":\"#E5ECF6\",\"gridcolor\":\"white\",\"linecolor\":\"white\",\"showbackground\":true,\"ticks\":\"\",\"zerolinecolor\":\"white\",\"gridwidth\":2}},\"shapedefaults\":{\"line\":{\"color\":\"#2a3f5f\"}},\"annotationdefaults\":{\"arrowcolor\":\"#2a3f5f\",\"arrowhead\":0,\"arrowwidth\":1},\"geo\":{\"bgcolor\":\"white\",\"landcolor\":\"#E5ECF6\",\"subunitcolor\":\"white\",\"showland\":true,\"showlakes\":true,\"lakecolor\":\"white\"},\"title\":{\"x\":0.05},\"mapbox\":{\"style\":\"light\"}}},\"title\":{\"text\":\"Opinions Std over time\",\"x\":0.5,\"y\":0.85},\"legend\":{\"yanchor\":\"top\",\"y\":0.99,\"xanchor\":\"right\",\"x\":0.99},\"xaxis\":{\"title\":{\"text\":\"step\"},\"dtick\":1},\"yaxis\":{\"title\":{\"text\":\"Avg difference in opinions\"}},\"width\":600,\"height\":400},                        {\"responsive\": true}                    ).then(function(){\n",
       "                            \n",
       "var gd = document.getElementById('be858d0f-d9dc-4f73-90d7-2c720e622e11');\n",
       "var x = new MutationObserver(function (mutations, observer) {{\n",
       "        var display = window.getComputedStyle(gd).display;\n",
       "        if (!display || display === 'none') {{\n",
       "            console.log([gd, 'removed!']);\n",
       "            Plotly.purge(gd);\n",
       "            observer.disconnect();\n",
       "        }}\n",
       "}});\n",
       "\n",
       "// Listen for the removal of the full notebook cells\n",
       "var notebookContainer = gd.closest('#notebook-container');\n",
       "if (notebookContainer) {{\n",
       "    x.observe(notebookContainer, {childList: true});\n",
       "}}\n",
       "\n",
       "// Listen for the clearing of the current output cell\n",
       "var outputEl = gd.closest('.output');\n",
       "if (outputEl) {{\n",
       "    x.observe(outputEl, {childList: true});\n",
       "}}\n",
       "\n",
       "                        })                };                });            </script>        </div>"
      ]
     },
     "metadata": {},
     "output_type": "display_data"
    }
   ],
   "source": [
    "import plotly.graph_objects as go\n",
    "# mode = ['FJ', 'Abebe', 'new']\n",
    "mode = ['Abebe', 'new']\n",
    "fig = go.Figure()\n",
    "_, test_graph, init_date, df = create_graph()\n",
    "for i in mode:\n",
    "    graph = test_graph.copy()\n",
    "    test = ExperimentClass(graph, i, df, init_date)\n",
    "    test.run_model(30)\n",
    "    avgdiff_per_iter = test.get_avgdiff_per_iter()\n",
    "    print(avgdiff_per_iter)\n",
    "    opinions_std_per_iter = test.get_opinions_std_per_iter()\n",
    "    print(opinions_std_per_iter)\n",
    "    test.plot()\n",
    "    fig.add_trace(go.Scatter(x=np.arange(1, len(avgdiff_per_iter)+1), y=opinions_std_per_iter, mode='lines', name=f'{i}'))\n",
    "fig.update_layout(title=f'Opinions Std over time', \n",
    "                  xaxis_title='step', yaxis_title='Avg difference in opinions',\n",
    "                  title_x=0.5, title_y=0.85,\n",
    "                  legend=dict(\n",
    "                    yanchor=\"top\",\n",
    "                    y=0.99,\n",
    "                    xanchor=\"right\",\n",
    "                    x=0.99\n",
    "                  ),\n",
    "                  width=600, height=400)\n",
    "# update x ticks to every 1\n",
    "fig.update_xaxes(dtick=1)\n",
    "fig.update_layout\n",
    "fig.show()\n",
    "\n",
    "# # Save the figure with a high resolution (dpi=300)\n",
    "pio.write_image(fig, 'avg_diff.jpeg', width=600, height=400, scale=10)"
   ]
  },
  {
   "cell_type": "code",
   "execution_count": 9,
   "metadata": {},
   "outputs": [
    {
     "data": {
      "text/plain": [
       "(5851, 2288)"
      ]
     },
     "execution_count": 9,
     "metadata": {},
     "output_type": "execute_result"
    }
   ],
   "source": [
    "test.graph.number_of_edges(), test.graph.number_of_nodes()"
   ]
  },
  {
   "cell_type": "code",
   "execution_count": 9,
   "id": "785c06b0",
   "metadata": {
    "scrolled": true
   },
   "outputs": [
    {
     "data": {
      "text/plain": [
       "\"plt.figure(figsize = (15,15))\\nnx.draw(g_simple, node_size=[g_simple.nodes[node]['node_centrality'] for node in g_simple.nodes],\\n    node_color=[g_simple.nodes[node]['opinion'] for node in g_simple.nodes])\\nplt.savefig('start.svg')\""
      ]
     },
     "execution_count": 9,
     "metadata": {},
     "output_type": "execute_result"
    }
   ],
   "source": [
    "# only try this when having sufficient time and PC memory\n",
    "'''plt.figure(figsize = (15,15))\n",
    "nx.draw(g_simple, node_size=[g_simple.nodes[node]['node_centrality'] for node in g_simple.nodes],\n",
    "    node_color=[g_simple.nodes[node]['opinion'] for node in g_simple.nodes])\n",
    "plt.savefig('start.svg')'''"
   ]
  },
  {
   "cell_type": "markdown",
   "id": "ddae0183",
   "metadata": {},
   "source": [
    "## Interate Component"
   ]
  },
  {
   "cell_type": "code",
   "execution_count": 10,
   "id": "56516ad1",
   "metadata": {},
   "outputs": [
    {
     "data": {
      "text/plain": [
       "<Figure size 500x500 with 0 Axes>"
      ]
     },
     "metadata": {},
     "output_type": "display_data"
    }
   ],
   "source": [
    "plt.figure(figsize = (5,5))\n",
    "g_simple = test_graph.copy()"
   ]
  },
  {
   "cell_type": "code",
   "execution_count": 11,
   "id": "b85b5534",
   "metadata": {},
   "outputs": [
    {
     "ename": "IndexError",
     "evalue": "list index out of range",
     "output_type": "error",
     "traceback": [
      "\u001b[0;31m---------------------------------------------------------------------------\u001b[0m",
      "\u001b[0;31mIndexError\u001b[0m                                Traceback (most recent call last)",
      "\u001b[1;32m/home/kk929/neat_opinion_network/experiments.ipynb Cell 12\u001b[0m line \u001b[0;36m8\n\u001b[1;32m      <a href='vscode-notebook-cell://ssh-remote%2Bccc.infosci.cornell.edu/home/kk929/neat_opinion_network/experiments.ipynb#X14sdnNjb2RlLXJlbW90ZQ%3D%3D?line=5'>6</a>\u001b[0m         subgraph_20\u001b[39m.\u001b[39mappend(subgraph)\n\u001b[1;32m      <a href='vscode-notebook-cell://ssh-remote%2Bccc.infosci.cornell.edu/home/kk929/neat_opinion_network/experiments.ipynb#X14sdnNjb2RlLXJlbW90ZQ%3D%3D?line=6'>7</a>\u001b[0m \u001b[39m# random select one subgraph\u001b[39;00m\n\u001b[0;32m----> <a href='vscode-notebook-cell://ssh-remote%2Bccc.infosci.cornell.edu/home/kk929/neat_opinion_network/experiments.ipynb#X14sdnNjb2RlLXJlbW90ZQ%3D%3D?line=7'>8</a>\u001b[0m subgraph \u001b[39m=\u001b[39m subgraph_20[\u001b[39m1\u001b[39;49m]\n",
      "\u001b[0;31mIndexError\u001b[0m: list index out of range"
     ]
    }
   ],
   "source": [
    "list(nx.connected_components(g_simple))\n",
    "subgraph_20 = []\n",
    "for i in list(nx.connected_components(g_simple)):\n",
    "    if len(i) == 20:\n",
    "        subgraph = i\n",
    "        subgraph_20.append(subgraph)\n",
    "# random select one subgraph\n",
    "subgraph = subgraph_20[1]"
   ]
  },
  {
   "cell_type": "code",
   "execution_count": 12,
   "id": "d8161672",
   "metadata": {},
   "outputs": [
    {
     "ename": "KeyboardInterrupt",
     "evalue": "",
     "output_type": "error",
     "traceback": [
      "\u001b[0;31m---------------------------------------------------------------------------\u001b[0m",
      "\u001b[0;31mAttributeError\u001b[0m                            Traceback (most recent call last)",
      "File \u001b[0;32m~/neat_opinion_network/neat/lib/python3.11/site-packages/numpy/core/fromnumeric.py:3209\u001b[0m, in \u001b[0;36mndim\u001b[0;34m(a)\u001b[0m\n\u001b[1;32m   3208\u001b[0m \u001b[39mtry\u001b[39;00m:\n\u001b[0;32m-> 3209\u001b[0m     \u001b[39mreturn\u001b[39;00m a\u001b[39m.\u001b[39;49mndim\n\u001b[1;32m   3210\u001b[0m \u001b[39mexcept\u001b[39;00m \u001b[39mAttributeError\u001b[39;00m:\n",
      "\u001b[0;31mAttributeError\u001b[0m: 'int' object has no attribute 'ndim'",
      "\nDuring handling of the above exception, another exception occurred:\n",
      "\u001b[0;31mKeyboardInterrupt\u001b[0m                         Traceback (most recent call last)",
      "\u001b[1;32m/home/kk929/neat_opinion_network/experiments.ipynb Cell 13\u001b[0m line \u001b[0;36m1\n\u001b[0;32m----> <a href='vscode-notebook-cell://ssh-remote%2Bccc.infosci.cornell.edu/home/kk929/neat_opinion_network/experiments.ipynb#X15sdnNjb2RlLXJlbW90ZQ%3D%3D?line=0'>1</a>\u001b[0m pos \u001b[39m=\u001b[39m nx\u001b[39m.\u001b[39;49mspring_layout(g_simple)\n",
      "File \u001b[0;32m~/neat_opinion_network/neat/lib/python3.11/site-packages/networkx/utils/decorators.py:770\u001b[0m, in \u001b[0;36margmap.__call__.<locals>.func\u001b[0;34m(_argmap__wrapper, *args, **kwargs)\u001b[0m\n\u001b[1;32m    769\u001b[0m \u001b[39mdef\u001b[39;00m \u001b[39mfunc\u001b[39m(\u001b[39m*\u001b[39margs, __wrapper\u001b[39m=\u001b[39m\u001b[39mNone\u001b[39;00m, \u001b[39m*\u001b[39m\u001b[39m*\u001b[39mkwargs):\n\u001b[0;32m--> 770\u001b[0m     \u001b[39mreturn\u001b[39;00m argmap\u001b[39m.\u001b[39;49m_lazy_compile(__wrapper)(\u001b[39m*\u001b[39;49margs, \u001b[39m*\u001b[39;49m\u001b[39m*\u001b[39;49mkwargs)\n",
      "File \u001b[0;32m<class 'networkx.utils.decorators.argmap'> compilation 12:4\u001b[0m, in \u001b[0;36margmap_spring_layout_9\u001b[0;34m(G, k, pos, fixed, iterations, threshold, weight, scale, center, dim, seed)\u001b[0m\n\u001b[1;32m      2\u001b[0m \u001b[39mimport\u001b[39;00m \u001b[39mcollections\u001b[39;00m\n\u001b[1;32m      3\u001b[0m \u001b[39mimport\u001b[39;00m \u001b[39mgzip\u001b[39;00m\n\u001b[0;32m----> 4\u001b[0m \u001b[39mimport\u001b[39;00m \u001b[39minspect\u001b[39;00m\n\u001b[1;32m      5\u001b[0m \u001b[39mimport\u001b[39;00m \u001b[39mitertools\u001b[39;00m\n\u001b[1;32m      6\u001b[0m \u001b[39mimport\u001b[39;00m \u001b[39mre\u001b[39;00m\n",
      "File \u001b[0;32m~/neat_opinion_network/neat/lib/python3.11/site-packages/networkx/drawing/layout.py:482\u001b[0m, in \u001b[0;36mspring_layout\u001b[0;34m(G, k, pos, fixed, iterations, threshold, weight, scale, center, dim, seed)\u001b[0m\n\u001b[1;32m    480\u001b[0m         nnodes, _ \u001b[39m=\u001b[39m A\u001b[39m.\u001b[39mshape\n\u001b[1;32m    481\u001b[0m         k \u001b[39m=\u001b[39m dom_size \u001b[39m/\u001b[39m np\u001b[39m.\u001b[39msqrt(nnodes)\n\u001b[0;32m--> 482\u001b[0m     pos \u001b[39m=\u001b[39m _sparse_fruchterman_reingold(\n\u001b[1;32m    483\u001b[0m         A, k, pos_arr, fixed, iterations, threshold, dim, seed\n\u001b[1;32m    484\u001b[0m     )\n\u001b[1;32m    485\u001b[0m \u001b[39mexcept\u001b[39;00m \u001b[39mValueError\u001b[39;00m:\n\u001b[1;32m    486\u001b[0m     A \u001b[39m=\u001b[39m nx\u001b[39m.\u001b[39mto_numpy_array(G, weight\u001b[39m=\u001b[39mweight)\n",
      "File \u001b[0;32m~/neat_opinion_network/neat/lib/python3.11/site-packages/networkx/utils/decorators.py:770\u001b[0m, in \u001b[0;36margmap.__call__.<locals>.func\u001b[0;34m(_argmap__wrapper, *args, **kwargs)\u001b[0m\n\u001b[1;32m    769\u001b[0m \u001b[39mdef\u001b[39;00m \u001b[39mfunc\u001b[39m(\u001b[39m*\u001b[39margs, __wrapper\u001b[39m=\u001b[39m\u001b[39mNone\u001b[39;00m, \u001b[39m*\u001b[39m\u001b[39m*\u001b[39mkwargs):\n\u001b[0;32m--> 770\u001b[0m     \u001b[39mreturn\u001b[39;00m argmap\u001b[39m.\u001b[39;49m_lazy_compile(__wrapper)(\u001b[39m*\u001b[39;49margs, \u001b[39m*\u001b[39;49m\u001b[39m*\u001b[39;49mkwargs)\n",
      "File \u001b[0;32m<class 'networkx.utils.decorators.argmap'> compilation 16:4\u001b[0m, in \u001b[0;36margmap__sparse_fruchterman_reingold_13\u001b[0;34m(A, k, pos, fixed, iterations, threshold, dim, seed)\u001b[0m\n\u001b[1;32m      2\u001b[0m \u001b[39mimport\u001b[39;00m \u001b[39mcollections\u001b[39;00m\n\u001b[1;32m      3\u001b[0m \u001b[39mimport\u001b[39;00m \u001b[39mgzip\u001b[39;00m\n\u001b[0;32m----> 4\u001b[0m \u001b[39mimport\u001b[39;00m \u001b[39minspect\u001b[39;00m\n\u001b[1;32m      5\u001b[0m \u001b[39mimport\u001b[39;00m \u001b[39mitertools\u001b[39;00m\n\u001b[1;32m      6\u001b[0m \u001b[39mimport\u001b[39;00m \u001b[39mre\u001b[39;00m\n",
      "File \u001b[0;32m~/neat_opinion_network/neat/lib/python3.11/site-packages/networkx/drawing/layout.py:621\u001b[0m, in \u001b[0;36m_sparse_fruchterman_reingold\u001b[0;34m(A, k, pos, fixed, iterations, threshold, dim, seed)\u001b[0m\n\u001b[1;32m    619\u001b[0m distance \u001b[39m=\u001b[39m np\u001b[39m.\u001b[39mwhere(distance \u001b[39m<\u001b[39m \u001b[39m0.01\u001b[39m, \u001b[39m0.01\u001b[39m, distance)\n\u001b[1;32m    620\u001b[0m \u001b[39m# the adjacency matrix row\u001b[39;00m\n\u001b[0;32m--> 621\u001b[0m Ai \u001b[39m=\u001b[39m A\u001b[39m.\u001b[39;49mgetrowview(i)\u001b[39m.\u001b[39mtoarray()  \u001b[39m# TODO: revisit w/ sparse 1D container\u001b[39;00m\n\u001b[1;32m    622\u001b[0m \u001b[39m# displacement \"force\"\u001b[39;00m\n\u001b[1;32m    623\u001b[0m displacement[:, i] \u001b[39m+\u001b[39m\u001b[39m=\u001b[39m (\n\u001b[1;32m    624\u001b[0m     delta \u001b[39m*\u001b[39m (k \u001b[39m*\u001b[39m k \u001b[39m/\u001b[39m distance\u001b[39m*\u001b[39m\u001b[39m*\u001b[39m\u001b[39m2\u001b[39m \u001b[39m-\u001b[39m Ai \u001b[39m*\u001b[39m distance \u001b[39m/\u001b[39m k)\n\u001b[1;32m    625\u001b[0m )\u001b[39m.\u001b[39msum(axis\u001b[39m=\u001b[39m\u001b[39m1\u001b[39m)\n",
      "File \u001b[0;32m~/neat_opinion_network/neat/lib/python3.11/site-packages/scipy/sparse/_lil.py:185\u001b[0m, in \u001b[0;36m_lil_base.getrowview\u001b[0;34m(self, i)\u001b[0m\n\u001b[1;32m    182\u001b[0m \u001b[39mdef\u001b[39;00m \u001b[39mgetrowview\u001b[39m(\u001b[39mself\u001b[39m, i):\n\u001b[1;32m    183\u001b[0m \u001b[39m    \u001b[39m\u001b[39m\"\"\"Returns a view of the 'i'th row (without copying).\u001b[39;00m\n\u001b[1;32m    184\u001b[0m \u001b[39m    \"\"\"\u001b[39;00m\n\u001b[0;32m--> 185\u001b[0m     new \u001b[39m=\u001b[39m \u001b[39mself\u001b[39;49m\u001b[39m.\u001b[39;49m_lil_container((\u001b[39m1\u001b[39;49m, \u001b[39mself\u001b[39;49m\u001b[39m.\u001b[39;49mshape[\u001b[39m1\u001b[39;49m]), dtype\u001b[39m=\u001b[39;49m\u001b[39mself\u001b[39;49m\u001b[39m.\u001b[39;49mdtype)\n\u001b[1;32m    186\u001b[0m     new\u001b[39m.\u001b[39mrows[\u001b[39m0\u001b[39m] \u001b[39m=\u001b[39m \u001b[39mself\u001b[39m\u001b[39m.\u001b[39mrows[i]\n\u001b[1;32m    187\u001b[0m     new\u001b[39m.\u001b[39mdata[\u001b[39m0\u001b[39m] \u001b[39m=\u001b[39m \u001b[39mself\u001b[39m\u001b[39m.\u001b[39mdata[i]\n",
      "File \u001b[0;32m~/neat_opinion_network/neat/lib/python3.11/site-packages/scipy/sparse/_lil.py:103\u001b[0m, in \u001b[0;36m_lil_base.__init__\u001b[0;34m(self, arg1, shape, dtype, copy)\u001b[0m\n\u001b[1;32m    101\u001b[0m     \u001b[39mself\u001b[39m\u001b[39m.\u001b[39mdata \u001b[39m=\u001b[39m A\u001b[39m.\u001b[39mdata\n\u001b[1;32m    102\u001b[0m \u001b[39melif\u001b[39;00m \u001b[39misinstance\u001b[39m(arg1,\u001b[39mtuple\u001b[39m):\n\u001b[0;32m--> 103\u001b[0m     \u001b[39mif\u001b[39;00m isshape(arg1):\n\u001b[1;32m    104\u001b[0m         \u001b[39mif\u001b[39;00m shape \u001b[39mis\u001b[39;00m \u001b[39mnot\u001b[39;00m \u001b[39mNone\u001b[39;00m:\n\u001b[1;32m    105\u001b[0m             \u001b[39mraise\u001b[39;00m \u001b[39mValueError\u001b[39;00m(\u001b[39m'\u001b[39m\u001b[39minvalid use of shape parameter\u001b[39m\u001b[39m'\u001b[39m)\n",
      "File \u001b[0;32m~/neat_opinion_network/neat/lib/python3.11/site-packages/scipy/sparse/_sputils.py:248\u001b[0m, in \u001b[0;36misshape\u001b[0;34m(x, nonneg, allow_ndim)\u001b[0m\n\u001b[1;32m    246\u001b[0m     \u001b[39mreturn\u001b[39;00m \u001b[39mFalse\u001b[39;00m\n\u001b[1;32m    247\u001b[0m \u001b[39mfor\u001b[39;00m d \u001b[39min\u001b[39;00m x:\n\u001b[0;32m--> 248\u001b[0m     \u001b[39mif\u001b[39;00m \u001b[39mnot\u001b[39;00m isintlike(d):\n\u001b[1;32m    249\u001b[0m         \u001b[39mreturn\u001b[39;00m \u001b[39mFalse\u001b[39;00m\n\u001b[1;32m    250\u001b[0m     \u001b[39mif\u001b[39;00m nonneg \u001b[39mand\u001b[39;00m d \u001b[39m<\u001b[39m \u001b[39m0\u001b[39m:\n",
      "File \u001b[0;32m~/neat_opinion_network/neat/lib/python3.11/site-packages/scipy/sparse/_sputils.py:222\u001b[0m, in \u001b[0;36misintlike\u001b[0;34m(x)\u001b[0m\n\u001b[1;32m    217\u001b[0m \u001b[39m\u001b[39m\u001b[39m\"\"\"Is x appropriate as an index into a sparse matrix? Returns True\u001b[39;00m\n\u001b[1;32m    218\u001b[0m \u001b[39mif it can be cast safely to a machine int.\u001b[39;00m\n\u001b[1;32m    219\u001b[0m \u001b[39m\"\"\"\u001b[39;00m\n\u001b[1;32m    220\u001b[0m \u001b[39m# Fast-path check to eliminate non-scalar values. operator.index would\u001b[39;00m\n\u001b[1;32m    221\u001b[0m \u001b[39m# catch this case too, but the exception catching is slow.\u001b[39;00m\n\u001b[0;32m--> 222\u001b[0m \u001b[39mif\u001b[39;00m np\u001b[39m.\u001b[39;49mndim(x) \u001b[39m!=\u001b[39m \u001b[39m0\u001b[39m:\n\u001b[1;32m    223\u001b[0m     \u001b[39mreturn\u001b[39;00m \u001b[39mFalse\u001b[39;00m\n\u001b[1;32m    224\u001b[0m \u001b[39mtry\u001b[39;00m:\n",
      "File \u001b[0;32m~/neat_opinion_network/neat/lib/python3.11/site-packages/numpy/core/fromnumeric.py:3211\u001b[0m, in \u001b[0;36mndim\u001b[0;34m(a)\u001b[0m\n\u001b[1;32m   3209\u001b[0m     \u001b[39mreturn\u001b[39;00m a\u001b[39m.\u001b[39mndim\n\u001b[1;32m   3210\u001b[0m \u001b[39mexcept\u001b[39;00m \u001b[39mAttributeError\u001b[39;00m:\n\u001b[0;32m-> 3211\u001b[0m     \u001b[39mreturn\u001b[39;00m asarray(a)\u001b[39m.\u001b[39mndim\n",
      "\u001b[0;31mKeyboardInterrupt\u001b[0m: "
     ]
    }
   ],
   "source": [
    "pos = nx.spring_layout(g_simple)"
   ]
  },
  {
   "cell_type": "code",
   "execution_count": null,
   "id": "6ed38f8c",
   "metadata": {},
   "outputs": [
    {
     "name": "stdout",
     "output_type": "stream",
     "text": [
      "Graph with 11870 nodes and 19683 edges\n"
     ]
    },
    {
     "name": "stderr",
     "output_type": "stream",
     "text": [
      "/var/folders/y1/fh786ynd5w516vt3ry98bgp00000gn/T/ipykernel_35999/2742584444.py:6: MatplotlibDeprecationWarning:\n",
      "\n",
      "The get_cmap function was deprecated in Matplotlib 3.7 and will be removed two minor releases later. Use ``matplotlib.colormaps[name]`` or ``matplotlib.colormaps.get_cmap(obj)`` instead.\n",
      "\n"
     ]
    },
    {
     "name": "stdout",
     "output_type": "stream",
     "text": [
      "0.707655918229493\n",
      "0.4804282422099595\n",
      "0.4262340436568156\n",
      "0.35564042917436584\n",
      "0.2790727963199281\n"
     ]
    },
    {
     "data": {
      "image/png": "[encoded data removed]",
      "text/plain": [
       "<Figure size 300x200 with 1 Axes>"
      ]
     },
     "metadata": {
      "image/png": {
       "height": 220,
       "width": 320
      }
     },
     "output_type": "display_data"
    },
    {
     "data": {
      "image/png": "[encoded data removed]",
      "text/plain": [
       "<Figure size 300x200 with 1 Axes>"
      ]
     },
     "metadata": {
      "image/png": {
       "height": 220,
       "width": 320
      }
     },
     "output_type": "display_data"
    },
    {
     "data": {
      "image/png": "[encoded data removed]",
      "text/plain": [
       "<Figure size 300x200 with 1 Axes>"
      ]
     },
     "metadata": {
      "image/png": {
       "height": 220,
       "width": 320
      }
     },
     "output_type": "display_data"
    },
    {
     "data": {
      "image/png": "[encoded data removed]",
      "text/plain": [
       "<Figure size 300x200 with 1 Axes>"
      ]
     },
     "metadata": {
      "image/png": {
       "height": 220,
       "width": 320
      }
     },
     "output_type": "display_data"
    },
    {
     "data": {
      "image/png": "[encoded data removed]",
      "text/plain": [
       "<Figure size 300x200 with 1 Axes>"
      ]
     },
     "metadata": {
      "image/png": {
       "height": 220,
       "width": 320
      }
     },
     "output_type": "display_data"
    }
   ],
   "source": [
    "cnt = 1\n",
    "%config InlineBackend.figure_format = 'retina'\n",
    "test = ExperimentClass(g_simple, 'Abebe')\n",
    "# set a continuous color scale to map opinions to colors\n",
    "plt.figure(figsize=(3, 2))\n",
    "cmap = plt.cm.get_cmap('coolwarm')\n",
    "node_sizes = [g_simple.nodes[node]['node_centrality']*10000 for node in g_simple.subgraph(subgraph).nodes]\n",
    "# node_colors = [g_simple.nodes[node]['opinion']*10000 for node in g_simple.subgraph(subgraph).nodes]\n",
    "node_colors = [cmap(g_simple.nodes[node]['opinion']) for node in g_simple.subgraph(subgraph).nodes]\n",
    "print(g_simple.nodes[node]['opinion'])\n",
    "# always draw the nodes in the same place\n",
    "nx.draw(g_simple.subgraph(subgraph), pos=pos, node_size=node_sizes, node_color=node_colors, width=1)\n",
    "plt.savefig(f'figures/opinion_0.jpeg', dpi=300)\n",
    "\n",
    "while cnt < 5:\n",
    "    test.run_model(20*cnt)\n",
    "    # draw subgraph of g_simple\n",
    "    plt.figure(figsize=(3, 2))\n",
    "    node_sizes = [g_simple.nodes[node]['node_centrality']*10000 for node in g_simple.subgraph(subgraph).nodes]\n",
    "    # node_colors = [g_simple.nodes[node]['opinion']*10000 for node in g_simple.subgraph(subgraph).nodes]\n",
    "    node_colors = [cmap(g_simple.nodes[node]['opinion']) for node in g_simple.subgraph(subgraph).nodes]\n",
    "    print(g_simple.nodes[node]['opinion'])\n",
    "    # always draw the nodes in the same place\n",
    "    nx.draw(g_simple.subgraph(subgraph), pos=pos, node_size=node_sizes, node_color=node_colors, width=1)\n",
    "    plt.savefig(f'figures/opinion_{cnt}.jpeg', dpi=300)\n",
    "\n",
    "    cnt += 1\n"
   ]
  },
  {
   "cell_type": "code",
   "execution_count": null,
   "id": "4dc67303",
   "metadata": {},
   "outputs": [
    {
     "name": "stdout",
     "output_type": "stream",
     "text": [
      "[(0, 1), (0, 2), (0, 3), (1, 2), (1, 3), (2, 3), (3, 4), (4, 5), (5, 6)]\n"
     ]
    }
   ],
   "source": [
    "G = nx.lollipop_graph(4,3)\n",
    "elist = G.edges()\n",
    "print(elist)\n",
    "G1 = nx.Graph()"
   ]
  },
  {
   "cell_type": "code",
   "execution_count": null,
   "id": "65b1e61e",
   "metadata": {},
   "outputs": [
    {
     "name": "stdout",
     "output_type": "stream",
     "text": [
      "2022-01-31\n"
     ]
    }
   ],
   "source": [
    "import datetime\n",
    "#from datautil import relativedelta\n",
    "datestr = '2022-01-31'\n",
    "daterep = datetime.datetime.strptime(datestr, '%Y-%m-%d').date()\n",
    "#nextmonth = daterep + relativedelta.relativedelta(months=1)\n",
    "print(daterep)"
   ]
  },
  {
   "cell_type": "code",
   "execution_count": null,
   "id": "5a5e5c1e",
   "metadata": {},
   "outputs": [
    {
     "name": "stdout",
     "output_type": "stream",
     "text": [
      "2022-02-01\n"
     ]
    }
   ],
   "source": [
    "dt_new = (daterep.replace(day=1) + datetime.timedelta(days=32)).replace(day=1)\n",
    "print(str(dt_new))  "
   ]
  },
  {
   "cell_type": "code",
   "execution_count": null,
   "id": "bcee9208",
   "metadata": {},
   "outputs": [],
   "source": []
  },
  {
   "cell_type": "code",
   "execution_count": null,
   "metadata": {},
   "outputs": [],
   "source": []
  }
 ],
 "metadata": {
  "colab": {
   "provenance": []
  },
  "kernelspec": {
   "display_name": "Python 3 (ipykernel)",
   "language": "python",
   "name": "python3"
  },
  "language_info": {
   "codemirror_mode": {
    "name": "ipython",
    "version": 3
   },
   "file_extension": ".py",
   "mimetype": "text/x-python",
   "name": "python",
   "nbconvert_exporter": "python",
   "pygments_lexer": "ipython3",
   "version": "3.11.5"
  }
 },
 "nbformat": 4,
 "nbformat_minor": 5
}
