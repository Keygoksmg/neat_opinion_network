{
 "cells": [
  {
   "cell_type": "code",
   "execution_count": 1,
   "id": "32d74ebc-02a4-42aa-aad1-3e5096af7a7a",
   "metadata": {},
   "outputs": [],
   "source": [
    "import networkx as nx\n",
    "import numpy as np\n",
    "import polars as pl\n",
    "import powerlaw\n",
    "import matplotlib.pyplot as plt\n",
    "from scipy.stats import lognorm\n",
    "from collections import Counter\n",
    "from itertools import combinations\n",
    "\n",
    "DATA_PATH = '/data'"
   ]
  },
  {
   "cell_type": "markdown",
   "metadata": {},
   "source": [
    "# From server to local"
   ]
  },
  {
   "cell_type": "code",
   "execution_count": null,
   "metadata": {},
   "outputs": [],
   "source": [
    "# SciSciNet\n",
    "ssn_auth_lazy = pl.scan_csv(f\"{DATA_PATH}/sciscinet/SciSciNet_Authors.tsv\", separator='\\t')\n",
    "ssn_paper_lazy = pl.scan_csv(f\"{DATA_PATH}/sciscinet/SciSciNet_Papers.tsv\", separator='\\t')\n",
    "ssn_paper_auth_affil_lazy = pl.scan_csv(f\"{DATA_PATH}/sciscinet/SciSciNet_PaperAuthorAffiliations.tsv\", separator='\\t')\n",
    "ssn_paper_ref_lazy = pl.scan_csv(f'{DATA_PATH}/sciscinet/SciSciNet_PaperReferences_Date.tsv', separator='\\t')"
   ]
  },
  {
   "cell_type": "code",
   "execution_count": null,
   "metadata": {},
   "outputs": [
    {
     "data": {
      "text/html": [
       "<div><style>\n",
       ".dataframe > thead > tr > th,\n",
       ".dataframe > tbody > tr > td {\n",
       "  text-align: right;\n",
       "  white-space: pre-wrap;\n",
       "}\n",
       "</style>\n",
       "<small>shape: (5, 6)</small><table border=\"1\" class=\"dataframe\"><thead><tr><th>PaperID</th><th>FieldID</th><th>Hit_1pct</th><th>Hit_5pct</th><th>Hit_10pct</th><th>C_f</th></tr><tr><td>i64</td><td>i64</td><td>f64</td><td>f64</td><td>f64</td><td>f64</td></tr></thead><tbody><tr><td>18936224</td><td>71924100</td><td>0.0</td><td>0.0</td><td>0.0</td><td>0.731404</td></tr><tr><td>94748468</td><td>144024400</td><td>0.0</td><td>0.0</td><td>0.0</td><td>0.0</td></tr><tr><td>113998959</td><td>71924100</td><td>0.0</td><td>0.0</td><td>0.0</td><td>0.270789</td></tr><tr><td>56740461</td><td>144133560</td><td>0.0</td><td>0.0</td><td>0.0</td><td>0.328162</td></tr><tr><td>23</td><td>71924100</td><td>0.0</td><td>0.0</td><td>0.0</td><td>0.169123</td></tr></tbody></table></div>"
      ],
      "text/plain": [
       "shape: (5, 6)\n",
       "┌───────────┬───────────┬──────────┬──────────┬───────────┬──────────┐\n",
       "│ PaperID   ┆ FieldID   ┆ Hit_1pct ┆ Hit_5pct ┆ Hit_10pct ┆ C_f      │\n",
       "│ ---       ┆ ---       ┆ ---      ┆ ---      ┆ ---       ┆ ---      │\n",
       "│ i64       ┆ i64       ┆ f64      ┆ f64      ┆ f64       ┆ f64      │\n",
       "╞═══════════╪═══════════╪══════════╪══════════╪═══════════╪══════════╡\n",
       "│ 18936224  ┆ 71924100  ┆ 0.0      ┆ 0.0      ┆ 0.0       ┆ 0.731404 │\n",
       "│ 94748468  ┆ 144024400 ┆ 0.0      ┆ 0.0      ┆ 0.0       ┆ 0.0      │\n",
       "│ 113998959 ┆ 71924100  ┆ 0.0      ┆ 0.0      ┆ 0.0       ┆ 0.270789 │\n",
       "│ 56740461  ┆ 144133560 ┆ 0.0      ┆ 0.0      ┆ 0.0       ┆ 0.328162 │\n",
       "│ 23        ┆ 71924100  ┆ 0.0      ┆ 0.0      ┆ 0.0       ┆ 0.169123 │\n",
       "└───────────┴───────────┴──────────┴──────────┴───────────┴──────────┘"
      ]
     },
     "execution_count": 6,
     "metadata": {},
     "output_type": "execute_result"
    }
   ],
   "source": [
    "# paperID - FieldID\n",
    "ssn_paper_field_lazy = pl.scan_csv(f\"{DATA_PATH}/sciscinet/SciSciNet_PaperFields.tsv\", separator='\\t')\n",
    "ssn_paper_field_lazy[:5].collect()"
   ]
  },
  {
   "cell_type": "code",
   "execution_count": null,
   "metadata": {},
   "outputs": [
    {
     "data": {
      "text/html": [
       "<div><style>\n",
       ".dataframe > thead > tr > th,\n",
       ".dataframe > tbody > tr > td {\n",
       "  text-align: right;\n",
       "  white-space: pre-wrap;\n",
       "}\n",
       "</style>\n",
       "<small>shape: (19, 3)</small><table border=\"1\" class=\"dataframe\"><thead><tr><th>FieldID</th><th>Field_Name</th><th>Field_Type</th></tr><tr><td>i64</td><td>str</td><td>str</td></tr></thead><tbody><tr><td>95457728</td><td>&quot;History&quot;</td><td>&quot;Top&quot;</td></tr><tr><td>127313418</td><td>&quot;Geology&quot;</td><td>&quot;Top&quot;</td></tr><tr><td>162324750</td><td>&quot;Economics&quot;</td><td>&quot;Top&quot;</td></tr><tr><td>205649164</td><td>&quot;Geography&quot;</td><td>&quot;Top&quot;</td></tr><tr><td>185592680</td><td>&quot;Chemistry&quot;</td><td>&quot;Top&quot;</td></tr><tr><td>138885662</td><td>&quot;Philosophy&quot;</td><td>&quot;Top&quot;</td></tr><tr><td>144024400</td><td>&quot;Sociology&quot;</td><td>&quot;Top&quot;</td></tr><tr><td>192562407</td><td>&quot;Materials scie…</td><td>&quot;Top&quot;</td></tr><tr><td>33923547</td><td>&quot;Mathematics&quot;</td><td>&quot;Top&quot;</td></tr><tr><td>86803240</td><td>&quot;Biology&quot;</td><td>&quot;Top&quot;</td></tr><tr><td>41008148</td><td>&quot;Computer scien…</td><td>&quot;Top&quot;</td></tr><tr><td>17744445</td><td>&quot;Political scie…</td><td>&quot;Top&quot;</td></tr><tr><td>127413603</td><td>&quot;Engineering&quot;</td><td>&quot;Top&quot;</td></tr><tr><td>15744967</td><td>&quot;Psychology&quot;</td><td>&quot;Top&quot;</td></tr><tr><td>39432304</td><td>&quot;Environmental …</td><td>&quot;Top&quot;</td></tr><tr><td>144133560</td><td>&quot;Business&quot;</td><td>&quot;Top&quot;</td></tr><tr><td>121332964</td><td>&quot;Physics&quot;</td><td>&quot;Top&quot;</td></tr><tr><td>71924100</td><td>&quot;Medicine&quot;</td><td>&quot;Top&quot;</td></tr><tr><td>142362112</td><td>&quot;Art&quot;</td><td>&quot;Top&quot;</td></tr></tbody></table></div>"
      ],
      "text/plain": [
       "shape: (19, 3)\n",
       "┌───────────┬────────────┬────────────┐\n",
       "│ FieldID   ┆ Field_Name ┆ Field_Type │\n",
       "│ ---       ┆ ---        ┆ ---        │\n",
       "│ i64       ┆ str        ┆ str        │\n",
       "╞═══════════╪════════════╪════════════╡\n",
       "│ 95457728  ┆ History    ┆ Top        │\n",
       "│ 127313418 ┆ Geology    ┆ Top        │\n",
       "│ 162324750 ┆ Economics  ┆ Top        │\n",
       "│ 205649164 ┆ Geography  ┆ Top        │\n",
       "│ …         ┆ …          ┆ …          │\n",
       "│ 144133560 ┆ Business   ┆ Top        │\n",
       "│ 121332964 ┆ Physics    ┆ Top        │\n",
       "│ 71924100  ┆ Medicine   ┆ Top        │\n",
       "│ 142362112 ┆ Art        ┆ Top        │\n",
       "└───────────┴────────────┴────────────┘"
      ]
     },
     "execution_count": 4,
     "metadata": {},
     "output_type": "execute_result"
    }
   ],
   "source": [
    "# filed\n",
    "ssn_fields = pl.read_csv(f\"{DATA_PATH}/sciscinet/SciSciNet_Fields.tsv\", separator='\\t') \n",
    "ssn_fields.filter(pl.col('Field_Type') == 'Top')"
   ]
  },
  {
   "cell_type": "code",
   "execution_count": null,
   "metadata": {},
   "outputs": [],
   "source": [
    "FIELD_ID_Physics = 121332964\n",
    "FIELD_ID_History = 95457728"
   ]
  },
  {
   "cell_type": "code",
   "execution_count": null,
   "metadata": {},
   "outputs": [],
   "source": [
    "def extract_papers(pids: list, year_min: int, year_max: int) -> pl.DataFrame:\n",
    "    ssn_paper_phy = ssn_paper_lazy.filter(\n",
    "        pl.col(\"PaperID\").is_in(pids)\n",
    "    ).filter(\n",
    "        (pl.col(\"Year\") >= year_min) & (pl.col(\"Year\") <= year_max)\n",
    "    ).select([\n",
    "        'PaperID', 'Year', 'Citation_Count', 'C10', \n",
    "        'Reference_Count', 'C5', 'Team_Size', \n",
    "        'Institution_Count',  'Newsfeed_Count'\n",
    "    ]).collect()\n",
    "\n",
    "    return ssn_paper_phy\n",
    "\n",
    "def extract_citation_info(pids: list) -> pl.DataFrame:\n",
    "    ssn_paper_ref_selected = ssn_paper_ref_lazy.filter(\n",
    "        (pl.col('Citing_PaperID').is_in(pids)) & (pl.col('Cited_PaperID').is_in(pids))\n",
    "    ).collect()\n",
    "\n",
    "    return ssn_paper_ref_selected\n",
    "\n",
    "def extract_collaboration_info(pids: list) -> pl.DataFrame:\n",
    "    ssn_paper_auth_affil_selected = ssn_paper_auth_affil_lazy.filter(\n",
    "        pl.col('PaperID').is_in(pids)\n",
    "    ).collect()\n",
    "\n",
    "    return ssn_paper_auth_affil_selected"
   ]
  },
  {
   "cell_type": "code",
   "execution_count": null,
   "metadata": {},
   "outputs": [
    {
     "name": "stdout",
     "output_type": "stream",
     "text": [
      "(388157, 9)\n",
      "(549666, 3)\n",
      "(3099280, 4)\n",
      "(164703, 9)\n",
      "(6088, 3)\n",
      "(231146, 4)\n"
     ]
    }
   ],
   "source": [
    "FIELDS = [FIELD_ID_Physics, FIELD_ID_History]\n",
    "FIELD_NAMES = ['Physics', 'History']\n",
    "\n",
    "YEAR_MIN = 2019\n",
    "YEAR_MAX = 2020\n",
    "\n",
    "for field_id, field_name in zip(FIELDS, FIELD_NAMES):\n",
    "    # extract paper ids\n",
    "    ssn_paper_field_selected = ssn_paper_field_lazy.filter(\n",
    "        pl.col('FieldID') == field_id\n",
    "    ).collect()\n",
    "    pid_selected = ssn_paper_field_selected['PaperID'].to_list()\n",
    "\n",
    "    # get paper info\n",
    "    ssn_paper_phy = extract_papers(pid_selected, YEAR_MIN, YEAR_MAX)\n",
    "    print(ssn_paper_phy.shape)\n",
    "    pid_selected_by_year = ssn_paper_phy['PaperID'].to_list()\n",
    "\n",
    "    # get citation info\n",
    "    ssn_paper_ref_selected = extract_citation_info(pid_selected_by_year)\n",
    "    print(ssn_paper_ref_selected.shape)\n",
    "\n",
    "    # get collaboration info\n",
    "    ssn_paper_auth_affil_selected = extract_collaboration_info(pid_selected_by_year)\n",
    "    print(ssn_paper_auth_affil_selected.shape)\n",
    "\n",
    "    # save to csv\n",
    "    ssn_paper_phy.write_csv(f\"{DATA_PATH}/kk929/network/{field_name}/papers.csv\")\n",
    "    ssn_paper_ref_selected.write_csv(f\"{DATA_PATH}/kk929/network/{field_name}/ssn_paper_refs.csv\")\n",
    "    ssn_paper_auth_affil_selected.write_csv(f\"{DATA_PATH}/kk929/network/{field_name}/ssn_paper_authors.csv\")\n",
    "    "
   ]
  },
  {
   "cell_type": "markdown",
   "metadata": {},
   "source": [
    "# Create citation network"
   ]
  },
  {
   "cell_type": "code",
   "execution_count": 2,
   "metadata": {},
   "outputs": [],
   "source": [
    "# read\n",
    "FIELD_NAMES = ['Physics', 'History']\n",
    "field_name = FIELD_NAMES[0]  # in case of Physics\n"
   ]
  },
  {
   "cell_type": "code",
   "execution_count": 3,
   "metadata": {},
   "outputs": [],
   "source": [
    "gs = {}\n",
    "for field_name in FIELD_NAMES:\n",
    "    # read data\n",
    "    paper_ref = pl.read_csv(f'{DATA_PATH}/kk929/network/{field_name}/ssn_paper_refs.csv')  # please fix the path\n",
    "\n",
    "    # create directed graph\n",
    "    g_citation = nx.DiGraph()\n",
    "    g_citation.add_edges_from(paper_ref.select(['Citing_PaperID', 'Cited_PaperID']).to_numpy())\n",
    "\n",
    "    # get largest connected component\n",
    "    lcc_citation = max(nx.weakly_connected_components(g_citation), key=len)\n",
    "    g_citation_lcc = g_citation.subgraph(lcc_citation)\n",
    "\n",
    "    # add to dict\n",
    "    gs[field_name] = g_citation_lcc"
   ]
  },
  {
   "cell_type": "code",
   "execution_count": 4,
   "metadata": {},
   "outputs": [
    {
     "name": "stdout",
     "output_type": "stream",
     "text": [
      "Physics 148769 529272\n",
      "History 902 968\n"
     ]
    }
   ],
   "source": [
    "for f, g in gs.items():\n",
    "    print(f, g.number_of_nodes(), g.number_of_edges())"
   ]
  },
  {
   "cell_type": "code",
   "execution_count": 9,
   "metadata": {},
   "outputs": [],
   "source": [
    "# save to file\n",
    "for f, g in gs.items():\n",
    "    nx.write_edgelist(g, f'{DATA_PATH}/kk929/network/{f}/citation_lcc.edgelist', data=False)"
   ]
  },
  {
   "cell_type": "code",
   "execution_count": null,
   "metadata": {},
   "outputs": [],
   "source": []
  }
 ],
 "metadata": {
  "kernelspec": {
   "display_name": "Python 3 (ipykernel)",
   "language": "python",
   "name": "python3"
  }
 },
 "nbformat": 4,
 "nbformat_minor": 5
}
