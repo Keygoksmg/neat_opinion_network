{
 "cells": [
  {
   "cell_type": "code",
   "execution_count": 1,
   "id": "32d74ebc-02a4-42aa-aad1-3e5096af7a7a",
   "metadata": {},
   "outputs": [],
   "source": [
    "import networkx as nx\n",
    "import numpy as np\n",
    "import polars as pl\n",
    "import powerlaw\n",
    "import matplotlib.pyplot as plt\n",
    "from scipy.stats import lognorm\n",
    "from collections import Counter\n",
    "from itertools import combinations\n",
    "\n",
    "DATA_PATH = '/data'"
   ]
  },
  {
   "cell_type": "markdown",
   "metadata": {},
   "source": [
    "# From server to local"
   ]
  },
  {
   "cell_type": "code",
   "execution_count": 2,
   "metadata": {},
   "outputs": [],
   "source": [
    "# SciSciNet\n",
    "ssn_auth_lazy = pl.scan_csv(f\"{DATA_PATH}/sciscinet/SciSciNet_Authors.tsv\", separator='\\t')\n",
    "ssn_paper_lazy = pl.scan_csv(f\"{DATA_PATH}/sciscinet/SciSciNet_Papers.tsv\", separator='\\t')\n",
    "ssn_paper_auth_affil_lazy = pl.scan_csv(f\"{DATA_PATH}/sciscinet/SciSciNet_PaperAuthorAffiliations.tsv\", separator='\\t')\n",
    "ssn_paper_ref_lazy = pl.scan_csv(f'{DATA_PATH}/sciscinet/SciSciNet_PaperReferences_Date.tsv', separator='\\t')"
   ]
  },
  {
   "cell_type": "code",
   "execution_count": null,
   "metadata": {},
   "outputs": [
    {
     "data": {
      "text/html": [
       "<div><style>\n",
       ".dataframe > thead > tr > th,\n",
       ".dataframe > tbody > tr > td {\n",
       "  text-align: right;\n",
       "  white-space: pre-wrap;\n",
       "}\n",
       "</style>\n",
       "<small>shape: (5, 6)</small><table border=\"1\" class=\"dataframe\"><thead><tr><th>PaperID</th><th>FieldID</th><th>Hit_1pct</th><th>Hit_5pct</th><th>Hit_10pct</th><th>C_f</th></tr><tr><td>i64</td><td>i64</td><td>f64</td><td>f64</td><td>f64</td><td>f64</td></tr></thead><tbody><tr><td>18936224</td><td>71924100</td><td>0.0</td><td>0.0</td><td>0.0</td><td>0.731404</td></tr><tr><td>94748468</td><td>144024400</td><td>0.0</td><td>0.0</td><td>0.0</td><td>0.0</td></tr><tr><td>113998959</td><td>71924100</td><td>0.0</td><td>0.0</td><td>0.0</td><td>0.270789</td></tr><tr><td>56740461</td><td>144133560</td><td>0.0</td><td>0.0</td><td>0.0</td><td>0.328162</td></tr><tr><td>23</td><td>71924100</td><td>0.0</td><td>0.0</td><td>0.0</td><td>0.169123</td></tr></tbody></table></div>"
      ],
      "text/plain": [
       "shape: (5, 6)\n",
       "┌───────────┬───────────┬──────────┬──────────┬───────────┬──────────┐\n",
       "│ PaperID   ┆ FieldID   ┆ Hit_1pct ┆ Hit_5pct ┆ Hit_10pct ┆ C_f      │\n",
       "│ ---       ┆ ---       ┆ ---      ┆ ---      ┆ ---       ┆ ---      │\n",
       "│ i64       ┆ i64       ┆ f64      ┆ f64      ┆ f64       ┆ f64      │\n",
       "╞═══════════╪═══════════╪══════════╪══════════╪═══════════╪══════════╡\n",
       "│ 18936224  ┆ 71924100  ┆ 0.0      ┆ 0.0      ┆ 0.0       ┆ 0.731404 │\n",
       "│ 94748468  ┆ 144024400 ┆ 0.0      ┆ 0.0      ┆ 0.0       ┆ 0.0      │\n",
       "│ 113998959 ┆ 71924100  ┆ 0.0      ┆ 0.0      ┆ 0.0       ┆ 0.270789 │\n",
       "│ 56740461  ┆ 144133560 ┆ 0.0      ┆ 0.0      ┆ 0.0       ┆ 0.328162 │\n",
       "│ 23        ┆ 71924100  ┆ 0.0      ┆ 0.0      ┆ 0.0       ┆ 0.169123 │\n",
       "└───────────┴───────────┴──────────┴──────────┴───────────┴──────────┘"
      ]
     },
     "execution_count": 6,
     "metadata": {},
     "output_type": "execute_result"
    }
   ],
   "source": [
    "# paperID - FieldID\n",
    "ssn_paper_field_lazy = pl.scan_csv(f\"{DATA_PATH}/sciscinet/SciSciNet_PaperFields.tsv\", separator='\\t')\n",
    "ssn_paper_field_lazy[:5].collect()"
   ]
  },
  {
   "cell_type": "code",
   "execution_count": null,
   "metadata": {},
   "outputs": [
    {
     "data": {
      "text/html": [
       "<div><style>\n",
       ".dataframe > thead > tr > th,\n",
       ".dataframe > tbody > tr > td {\n",
       "  text-align: right;\n",
       "  white-space: pre-wrap;\n",
       "}\n",
       "</style>\n",
       "<small>shape: (19, 3)</small><table border=\"1\" class=\"dataframe\"><thead><tr><th>FieldID</th><th>Field_Name</th><th>Field_Type</th></tr><tr><td>i64</td><td>str</td><td>str</td></tr></thead><tbody><tr><td>95457728</td><td>&quot;History&quot;</td><td>&quot;Top&quot;</td></tr><tr><td>127313418</td><td>&quot;Geology&quot;</td><td>&quot;Top&quot;</td></tr><tr><td>162324750</td><td>&quot;Economics&quot;</td><td>&quot;Top&quot;</td></tr><tr><td>205649164</td><td>&quot;Geography&quot;</td><td>&quot;Top&quot;</td></tr><tr><td>185592680</td><td>&quot;Chemistry&quot;</td><td>&quot;Top&quot;</td></tr><tr><td>138885662</td><td>&quot;Philosophy&quot;</td><td>&quot;Top&quot;</td></tr><tr><td>144024400</td><td>&quot;Sociology&quot;</td><td>&quot;Top&quot;</td></tr><tr><td>192562407</td><td>&quot;Materials scie…</td><td>&quot;Top&quot;</td></tr><tr><td>33923547</td><td>&quot;Mathematics&quot;</td><td>&quot;Top&quot;</td></tr><tr><td>86803240</td><td>&quot;Biology&quot;</td><td>&quot;Top&quot;</td></tr><tr><td>41008148</td><td>&quot;Computer scien…</td><td>&quot;Top&quot;</td></tr><tr><td>17744445</td><td>&quot;Political scie…</td><td>&quot;Top&quot;</td></tr><tr><td>127413603</td><td>&quot;Engineering&quot;</td><td>&quot;Top&quot;</td></tr><tr><td>15744967</td><td>&quot;Psychology&quot;</td><td>&quot;Top&quot;</td></tr><tr><td>39432304</td><td>&quot;Environmental …</td><td>&quot;Top&quot;</td></tr><tr><td>144133560</td><td>&quot;Business&quot;</td><td>&quot;Top&quot;</td></tr><tr><td>121332964</td><td>&quot;Physics&quot;</td><td>&quot;Top&quot;</td></tr><tr><td>71924100</td><td>&quot;Medicine&quot;</td><td>&quot;Top&quot;</td></tr><tr><td>142362112</td><td>&quot;Art&quot;</td><td>&quot;Top&quot;</td></tr></tbody></table></div>"
      ],
      "text/plain": [
       "shape: (19, 3)\n",
       "┌───────────┬────────────┬────────────┐\n",
       "│ FieldID   ┆ Field_Name ┆ Field_Type │\n",
       "│ ---       ┆ ---        ┆ ---        │\n",
       "│ i64       ┆ str        ┆ str        │\n",
       "╞═══════════╪════════════╪════════════╡\n",
       "│ 95457728  ┆ History    ┆ Top        │\n",
       "│ 127313418 ┆ Geology    ┆ Top        │\n",
       "│ 162324750 ┆ Economics  ┆ Top        │\n",
       "│ 205649164 ┆ Geography  ┆ Top        │\n",
       "│ …         ┆ …          ┆ …          │\n",
       "│ 144133560 ┆ Business   ┆ Top        │\n",
       "│ 121332964 ┆ Physics    ┆ Top        │\n",
       "│ 71924100  ┆ Medicine   ┆ Top        │\n",
       "│ 142362112 ┆ Art        ┆ Top        │\n",
       "└───────────┴────────────┴────────────┘"
      ]
     },
     "execution_count": 4,
     "metadata": {},
     "output_type": "execute_result"
    }
   ],
   "source": [
    "# filed\n",
    "ssn_fields = pl.read_csv(f\"{DATA_PATH}/sciscinet/SciSciNet_Fields.tsv\", separator='\\t') \n",
    "ssn_fields.filter(pl.col('Field_Type') == 'Top')"
   ]
  },
  {
   "cell_type": "code",
   "execution_count": null,
   "metadata": {},
   "outputs": [],
   "source": [
    "FIELD_ID_Physics = 121332964\n",
    "FIELD_ID_History = 95457728"
   ]
  },
  {
   "cell_type": "code",
   "execution_count": null,
   "metadata": {},
   "outputs": [],
   "source": [
    "def extract_papers(pids: list, year_min: int, year_max: int) -> pl.DataFrame:\n",
    "    ssn_paper_phy = ssn_paper_lazy.filter(\n",
    "        pl.col(\"PaperID\").is_in(pids)\n",
    "    ).filter(\n",
    "        (pl.col(\"Year\") >= year_min) & (pl.col(\"Year\") <= year_max)\n",
    "    ).select([\n",
    "        'PaperID', 'Year', 'Citation_Count', 'C10', \n",
    "        'Reference_Count', 'C5', 'Team_Size', \n",
    "        'Institution_Count',  'Newsfeed_Count'\n",
    "    ]).collect()\n",
    "\n",
    "    return ssn_paper_phy\n",
    "\n",
    "def extract_citation_info(pids: list) -> pl.DataFrame:\n",
    "    ssn_paper_ref_selected = ssn_paper_ref_lazy.filter(\n",
    "        (pl.col('Citing_PaperID').is_in(pids)) & (pl.col('Cited_PaperID').is_in(pids))\n",
    "    ).collect()\n",
    "\n",
    "    return ssn_paper_ref_selected\n",
    "\n",
    "def extract_collaboration_info(pids: list) -> pl.DataFrame:\n",
    "    ssn_paper_auth_affil_selected = ssn_paper_auth_affil_lazy.filter(\n",
    "        pl.col('PaperID').is_in(pids)\n",
    "    ).collect()\n",
    "\n",
    "    return ssn_paper_auth_affil_selected"
   ]
  },
  {
   "cell_type": "code",
   "execution_count": null,
   "metadata": {},
   "outputs": [
    {
     "name": "stdout",
     "output_type": "stream",
     "text": [
      "(388157, 9)\n",
      "(549666, 3)\n",
      "(3099280, 4)\n",
      "(164703, 9)\n",
      "(6088, 3)\n",
      "(231146, 4)\n"
     ]
    }
   ],
   "source": [
    "FIELDS = [FIELD_ID_Physics, FIELD_ID_History]\n",
    "FIELD_NAMES = ['Physics', 'History']\n",
    "\n",
    "YEAR_MIN = 2019\n",
    "YEAR_MAX = 2020\n",
    "\n",
    "for field_id, field_name in zip(FIELDS, FIELD_NAMES):\n",
    "    # extract paper ids\n",
    "    ssn_paper_field_selected = ssn_paper_field_lazy.filter(\n",
    "        pl.col('FieldID') == field_id\n",
    "    ).collect()\n",
    "    pid_selected = ssn_paper_field_selected['PaperID'].to_list()\n",
    "\n",
    "    # get paper info\n",
    "    ssn_paper_phy = extract_papers(pid_selected, YEAR_MIN, YEAR_MAX)\n",
    "    print(ssn_paper_phy.shape)\n",
    "    pid_selected_by_year = ssn_paper_phy['PaperID'].to_list()\n",
    "\n",
    "    # get citation info\n",
    "    ssn_paper_ref_selected = extract_citation_info(pid_selected_by_year)\n",
    "    print(ssn_paper_ref_selected.shape)\n",
    "\n",
    "    # get collaboration info\n",
    "    ssn_paper_auth_affil_selected = extract_collaboration_info(pid_selected_by_year)\n",
    "    print(ssn_paper_auth_affil_selected.shape)\n",
    "\n",
    "    # save to csv\n",
    "    ssn_paper_phy.write_csv(f\"{DATA_PATH}/kk929/network/{field_name}/papers.csv\")\n",
    "    ssn_paper_ref_selected.write_csv(f\"{DATA_PATH}/kk929/network/{field_name}/ssn_paper_refs.csv\")\n",
    "    ssn_paper_auth_affil_selected.write_csv(f\"{DATA_PATH}/kk929/network/{field_name}/ssn_paper_authors.csv\")\n",
    "    "
   ]
  },
  {
   "cell_type": "markdown",
   "metadata": {},
   "source": [
    "# Create citation network"
   ]
  },
  {
   "cell_type": "code",
   "execution_count": 2,
   "metadata": {},
   "outputs": [],
   "source": [
    "# read\n",
    "FIELD_NAMES = ['Physics', 'History']\n",
    "field_name = FIELD_NAMES[0]  # in case of Physics\n"
   ]
  },
  {
   "cell_type": "code",
   "execution_count": 3,
   "metadata": {},
   "outputs": [],
   "source": [
    "gs = {}\n",
    "for field_name in FIELD_NAMES:\n",
    "    # read data\n",
    "    paper_ref = pl.read_csv(f'{DATA_PATH}/kk929/network/{field_name}/ssn_paper_refs.csv')  # please fix the path\n",
    "\n",
    "    # create directed graph\n",
    "    g_citation = nx.DiGraph()\n",
    "    g_citation.add_edges_from(paper_ref.select(['Citing_PaperID', 'Cited_PaperID']).to_numpy())\n",
    "\n",
    "    # get largest connected component\n",
    "    lcc_citation = max(nx.weakly_connected_components(g_citation), key=len)\n",
    "    g_citation_lcc = g_citation.subgraph(lcc_citation)\n",
    "\n",
    "    # add to dict\n",
    "    gs[field_name] = g_citation_lcc"
   ]
  },
  {
   "cell_type": "code",
   "execution_count": 4,
   "metadata": {},
   "outputs": [
    {
     "name": "stdout",
     "output_type": "stream",
     "text": [
      "Physics 148769 529272\n",
      "History 902 968\n"
     ]
    }
   ],
   "source": [
    "for f, g in gs.items():\n",
    "    print(f, g.number_of_nodes(), g.number_of_edges())"
   ]
  },
  {
   "cell_type": "code",
   "execution_count": 9,
   "metadata": {},
   "outputs": [],
   "source": [
    "# save to file\n",
    "for f, g in gs.items():\n",
    "    nx.write_edgelist(g, f'{DATA_PATH}/kk929/network/{f}/citation_lcc.edgelist', data=False)"
   ]
  },
  {
   "cell_type": "markdown",
   "metadata": {},
   "source": [
    "# additional propoerty "
   ]
  },
  {
   "cell_type": "code",
   "execution_count": null,
   "metadata": {},
   "outputs": [],
   "source": [
    "# SciSciNet\n",
    "ssn_auth_lazy = pl.scan_csv(f\"{DATA_PATH}/sciscinet/SciSciNet_Authors.tsv\", separator='\\t')\n",
    "ssn_paper_lazy = pl.scan_csv(f\"{DATA_PATH}/sciscinet/SciSciNet_Papers.tsv\", separator='\\t')\n",
    "ssn_paper_auth_affil_lazy = pl.scan_csv(f\"{DATA_PATH}/sciscinet/SciSciNet_PaperAuthorAffiliations.tsv\", separator='\\t')\n",
    "ssn_paper_ref_lazy = pl.scan_csv(f'{DATA_PATH}/sciscinet/SciSciNet_PaperReferences_Date.tsv', separator='\\t')"
   ]
  },
  {
   "cell_type": "code",
   "execution_count": 8,
   "metadata": {},
   "outputs": [
    {
     "data": {
      "text/html": [
       "<div><style>\n",
       ".dataframe > thead > tr > th,\n",
       ".dataframe > tbody > tr > td {\n",
       "  text-align: right;\n",
       "  white-space: pre-wrap;\n",
       "}\n",
       "</style>\n",
       "<small>shape: (5, 9)</small><table border=\"1\" class=\"dataframe\"><thead><tr><th>PaperID</th><th>Year</th><th>Citation_Count</th><th>C10</th><th>Reference_Count</th><th>C5</th><th>Team_Size</th><th>Institution_Count</th><th>Newsfeed_Count</th></tr><tr><td>i64</td><td>f64</td><td>f64</td><td>str</td><td>f64</td><td>str</td><td>f64</td><td>f64</td><td>i64</td></tr></thead><tbody><tr><td>2809278917</td><td>2019.0</td><td>11.0</td><td>null</td><td>14.0</td><td>null</td><td>5.0</td><td>4.0</td><td>1</td></tr><tr><td>2911565233</td><td>2019.0</td><td>15.0</td><td>null</td><td>41.0</td><td>null</td><td>10.0</td><td>4.0</td><td>5</td></tr><tr><td>3127059635</td><td>2020.0</td><td>0.0</td><td>null</td><td>2.0</td><td>null</td><td>1.0</td><td>null</td><td>0</td></tr><tr><td>3161029312</td><td>2019.0</td><td>0.0</td><td>null</td><td>0.0</td><td>null</td><td>2.0</td><td>null</td><td>0</td></tr><tr><td>2914253702</td><td>2019.0</td><td>0.0</td><td>null</td><td>3.0</td><td>null</td><td>2.0</td><td>1.0</td><td>0</td></tr></tbody></table></div>"
      ],
      "text/plain": [
       "shape: (5, 9)\n",
       "┌────────────┬────────┬───────────────┬──────┬───┬──────┬───────────┬───────────────┬──────────────┐\n",
       "│ PaperID    ┆ Year   ┆ Citation_Coun ┆ C10  ┆ … ┆ C5   ┆ Team_Size ┆ Institution_C ┆ Newsfeed_Cou │\n",
       "│ ---        ┆ ---    ┆ t             ┆ ---  ┆   ┆ ---  ┆ ---       ┆ ount          ┆ nt           │\n",
       "│ i64        ┆ f64    ┆ ---           ┆ str  ┆   ┆ str  ┆ f64       ┆ ---           ┆ ---          │\n",
       "│            ┆        ┆ f64           ┆      ┆   ┆      ┆           ┆ f64           ┆ i64          │\n",
       "╞════════════╪════════╪═══════════════╪══════╪═══╪══════╪═══════════╪═══════════════╪══════════════╡\n",
       "│ 2809278917 ┆ 2019.0 ┆ 11.0          ┆ null ┆ … ┆ null ┆ 5.0       ┆ 4.0           ┆ 1            │\n",
       "│ 2911565233 ┆ 2019.0 ┆ 15.0          ┆ null ┆ … ┆ null ┆ 10.0      ┆ 4.0           ┆ 5            │\n",
       "│ 3127059635 ┆ 2020.0 ┆ 0.0           ┆ null ┆ … ┆ null ┆ 1.0       ┆ null          ┆ 0            │\n",
       "│ 3161029312 ┆ 2019.0 ┆ 0.0           ┆ null ┆ … ┆ null ┆ 2.0       ┆ null          ┆ 0            │\n",
       "│ 2914253702 ┆ 2019.0 ┆ 0.0           ┆ null ┆ … ┆ null ┆ 2.0       ┆ 1.0           ┆ 0            │\n",
       "└────────────┴────────┴───────────────┴──────┴───┴──────┴───────────┴───────────────┴──────────────┘"
      ]
     },
     "execution_count": 8,
     "metadata": {},
     "output_type": "execute_result"
    }
   ],
   "source": [
    "filed = 'History'\n",
    "papers = pl.read_csv(f\"data/History/papers.csv\")\n",
    "papers.head()"
   ]
  },
  {
   "cell_type": "code",
   "execution_count": 10,
   "metadata": {},
   "outputs": [
    {
     "data": {
      "text/html": [
       "<div><style>\n",
       ".dataframe > thead > tr > th,\n",
       ".dataframe > tbody > tr > td {\n",
       "  text-align: right;\n",
       "  white-space: pre-wrap;\n",
       "}\n",
       "</style>\n",
       "<small>shape: (5, 19)</small><table border=\"1\" class=\"dataframe\"><thead><tr><th>PaperID</th><th>DOI</th><th>DocType</th><th>PaperTitle</th><th>BookTitle</th><th>Year</th><th>Date</th><th>Publisher</th><th>JournalID</th><th>ConferenceSeriesID</th><th>Volume</th><th>Issue</th><th>FirstPage</th><th>LastPage</th><th>ReferenceCount</th><th>CitationCount</th><th>OriginalVenue</th><th>FamilyID</th><th>RetractionType</th></tr><tr><td>i64</td><td>str</td><td>str</td><td>str</td><td>str</td><td>f64</td><td>str</td><td>str</td><td>f64</td><td>f64</td><td>f64</td><td>f64</td><td>f64</td><td>f64</td><td>i64</td><td>i64</td><td>str</td><td>f64</td><td>str</td></tr></thead><tbody><tr><td>2789336</td><td>null</td><td>&quot;Journal&quot;</td><td>&quot;Inheritance an…</td><td>&quot;EJC&quot;</td><td>2008.0</td><td>&quot;2008-01-01&quot;</td><td>null</td><td>2.04851967e8</td><td>null</td><td>null</td><td>null</td><td>354.0</td><td>358.0</td><td>0</td><td>0</td><td>&quot;European Journ…</td><td>2.789336e6</td><td>null</td></tr><tr><td>2257060365</td><td>&quot;10.3233/978-1-…</td><td>null</td><td>&quot;Inheritance an…</td><td>null</td><td>2009.0</td><td>&quot;2009-07-10&quot;</td><td>&quot;IOS Press&quot;</td><td>null</td><td>null</td><td>null</td><td>null</td><td>354.0</td><td>358.0</td><td>13</td><td>2</td><td>&quot;Proceedings of…</td><td>2.789336e6</td><td>null</td></tr><tr><td>9552966</td><td>null</td><td>&quot;Journal&quot;</td><td>&quot;The effect of …</td><td>null</td><td>2005.0</td><td>&quot;2005-05-01&quot;</td><td>null</td><td>2.7376e9</td><td>null</td><td>26.0</td><td>2.0</td><td>113.0</td><td>118.0</td><td>37</td><td>1</td><td>&quot;Revista de Ciê…</td><td>9.552966e6</td><td>null</td></tr><tr><td>2769674369</td><td>null</td><td>&quot;Journal&quot;</td><td>&quot;The effect of …</td><td>null</td><td>2005.0</td><td>&quot;2005-01-01&quot;</td><td>&quot;UNESP/FCFAR&quot;</td><td>1.76643777e8</td><td>null</td><td>null</td><td>null</td><td>null</td><td>null</td><td>0</td><td>0</td><td>&quot;Scopus&quot;</td><td>9.552966e6</td><td>null</td></tr><tr><td>9694411</td><td>null</td><td>&quot;Conference&quot;</td><td>&quot;Can Functional…</td><td>&quot;IFIP Congress …</td><td>1994.0</td><td>&quot;1994-01-01&quot;</td><td>null</td><td>null</td><td>2.7559e9</td><td>null</td><td>null</td><td>330.0</td><td>335.0</td><td>0</td><td>0</td><td>&quot;ifip congress&quot;</td><td>9.694411e6</td><td>null</td></tr></tbody></table></div>"
      ],
      "text/plain": [
       "shape: (5, 19)\n",
       "┌───────────┬───────────┬───────────┬───────────┬───┬───────────┬───────────┬───────────┬──────────┐\n",
       "│ PaperID   ┆ DOI       ┆ DocType   ┆ PaperTitl ┆ … ┆ CitationC ┆ OriginalV ┆ FamilyID  ┆ Retracti │\n",
       "│ ---       ┆ ---       ┆ ---       ┆ e         ┆   ┆ ount      ┆ enue      ┆ ---       ┆ onType   │\n",
       "│ i64       ┆ str       ┆ str       ┆ ---       ┆   ┆ ---       ┆ ---       ┆ f64       ┆ ---      │\n",
       "│           ┆           ┆           ┆ str       ┆   ┆ i64       ┆ str       ┆           ┆ str      │\n",
       "╞═══════════╪═══════════╪═══════════╪═══════════╪═══╪═══════════╪═══════════╪═══════════╪══════════╡\n",
       "│ 2789336   ┆ null      ┆ Journal   ┆ Inheritan ┆ … ┆ 0         ┆ European  ┆ 2.789336e ┆ null     │\n",
       "│           ┆           ┆           ┆ ce and    ┆   ┆           ┆ Journal   ┆ 6         ┆          │\n",
       "│           ┆           ┆           ┆ Polymorph ┆   ┆           ┆ of Combin ┆           ┆          │\n",
       "│           ┆           ┆           ┆ ism in …  ┆   ┆           ┆ atoric…   ┆           ┆          │\n",
       "│ 225706036 ┆ 10.3233/9 ┆ null      ┆ Inheritan ┆ … ┆ 2         ┆ Proceedin ┆ 2.789336e ┆ null     │\n",
       "│ 5         ┆ 78-1-5860 ┆           ┆ ce and    ┆   ┆           ┆ gs of the ┆ 6         ┆          │\n",
       "│           ┆ 3-957-8-3 ┆           ┆ Polymorph ┆   ┆           ┆ 2009      ┆           ┆          │\n",
       "│           ┆ 54        ┆           ┆ ism in …  ┆   ┆           ┆ conferen… ┆           ┆          │\n",
       "│ 9552966   ┆ null      ┆ Journal   ┆ The       ┆ … ┆ 1         ┆ Revista   ┆ 9.552966e ┆ null     │\n",
       "│           ┆           ┆           ┆ effect of ┆   ┆           ┆ de        ┆ 6         ┆          │\n",
       "│           ┆           ┆           ┆ milk on   ┆   ┆           ┆ Ciências  ┆           ┆          │\n",
       "│           ┆           ┆           ┆ plasmatic ┆   ┆           ┆ Farmacêut ┆           ┆          │\n",
       "│           ┆           ┆           ┆ …         ┆   ┆           ┆ ica…      ┆           ┆          │\n",
       "│ 276967436 ┆ null      ┆ Journal   ┆ The       ┆ … ┆ 0         ┆ Scopus    ┆ 9.552966e ┆ null     │\n",
       "│ 9         ┆           ┆           ┆ effect of ┆   ┆           ┆           ┆ 6         ┆          │\n",
       "│           ┆           ┆           ┆ milk on   ┆   ┆           ┆           ┆           ┆          │\n",
       "│           ┆           ┆           ┆ plasmatic ┆   ┆           ┆           ┆           ┆          │\n",
       "│           ┆           ┆           ┆ …         ┆   ┆           ┆           ┆           ┆          │\n",
       "│ 9694411   ┆ null      ┆ Conferenc ┆ Can Funct ┆ … ┆ 0         ┆ ifip      ┆ 9.694411e ┆ null     │\n",
       "│           ┆           ┆ e         ┆ ional Pro ┆   ┆           ┆ congress  ┆ 6         ┆          │\n",
       "│           ┆           ┆           ┆ gramming  ┆   ┆           ┆           ┆           ┆          │\n",
       "│           ┆           ┆           ┆ Be Li…    ┆   ┆           ┆           ┆           ┆          │\n",
       "└───────────┴───────────┴───────────┴───────────┴───┴───────────┴───────────┴───────────┴──────────┘"
      ]
     },
     "execution_count": 10,
     "metadata": {},
     "output_type": "execute_result"
    }
   ],
   "source": [
    "ssn_paper_detail_lazy = pl.scan_csv(f\"{DATA_PATH}/sciscinet/SciSciNet_PaperDetails.tsv\", separator='\\t') \n",
    "ssn_paper_detail_lazy[:5].collect()"
   ]
  },
  {
   "cell_type": "code",
   "execution_count": 11,
   "metadata": {},
   "outputs": [],
   "source": [
    "ssn_paper_detail_selected = ssn_paper_detail_lazy.filter(\n",
    "    pl.col('PaperID').is_in(papers['PaperID'].to_list())\n",
    ").select([\n",
    "    'PaperID', 'PaperTitle', \n",
    "]).collect()"
   ]
  },
  {
   "cell_type": "code",
   "execution_count": 12,
   "metadata": {},
   "outputs": [
    {
     "data": {
      "text/plain": [
       "(164703, 164703)"
      ]
     },
     "execution_count": 12,
     "metadata": {},
     "output_type": "execute_result"
    }
   ],
   "source": [
    "papers['PaperID'].n_unique(), ssn_paper_detail_selected['PaperID'].n_unique()"
   ]
  },
  {
   "cell_type": "code",
   "execution_count": 13,
   "metadata": {},
   "outputs": [
    {
     "data": {
      "text/html": [
       "<div><style>\n",
       ".dataframe > thead > tr > th,\n",
       ".dataframe > tbody > tr > td {\n",
       "  text-align: right;\n",
       "  white-space: pre-wrap;\n",
       "}\n",
       "</style>\n",
       "<small>shape: (5, 2)</small><table border=\"1\" class=\"dataframe\"><thead><tr><th>PaperID</th><th>PaperTitle</th></tr><tr><td>i64</td><td>str</td></tr></thead><tbody><tr><td>2809278917</td><td>&quot;Flooded by jar…</td></tr><tr><td>2911565233</td><td>&quot;A multidiscipl…</td></tr><tr><td>3127059635</td><td>&quot;Alexander Bruc…</td></tr><tr><td>3161029312</td><td>&quot;Beating the Od…</td></tr><tr><td>2914253702</td><td>&quot;On belonging: …</td></tr></tbody></table></div>"
      ],
      "text/plain": [
       "shape: (5, 2)\n",
       "┌────────────┬───────────────────────────────────┐\n",
       "│ PaperID    ┆ PaperTitle                        │\n",
       "│ ---        ┆ ---                               │\n",
       "│ i64        ┆ str                               │\n",
       "╞════════════╪═══════════════════════════════════╡\n",
       "│ 2809278917 ┆ Flooded by jargon: how the inter… │\n",
       "│ 2911565233 ┆ A multidisciplinary approach to … │\n",
       "│ 3127059635 ┆ Alexander Bruce, Scotland's acci… │\n",
       "│ 3161029312 ┆ Beating the Odds: Black Jockeys … │\n",
       "│ 2914253702 ┆ On belonging: Preliminary though… │\n",
       "└────────────┴───────────────────────────────────┘"
      ]
     },
     "execution_count": 13,
     "metadata": {},
     "output_type": "execute_result"
    }
   ],
   "source": [
    "ssn_paper_detail_selected.head()"
   ]
  },
  {
   "cell_type": "code",
   "execution_count": null,
   "metadata": {},
   "outputs": [],
   "source": []
  }
 ],
 "metadata": {
  "kernelspec": {
   "display_name": "Python 3 (ipykernel)",
   "language": "python",
   "name": "python3"
  },
  "language_info": {
   "codemirror_mode": {
    "name": "ipython",
    "version": 3
   },
   "file_extension": ".py",
   "mimetype": "text/x-python",
   "name": "python",
   "nbconvert_exporter": "python",
   "pygments_lexer": "ipython3",
   "version": "3.11.5"
  }
 },
 "nbformat": 4,
 "nbformat_minor": 5
}
