{
 "cells": [
  {
   "cell_type": "code",
   "execution_count": 1,
   "id": "914d1e58",
   "metadata": {},
   "outputs": [],
   "source": [
    "import polars as pl\n",
    "import networkx as nx\n",
    "import numpy as np\n",
    "\n",
    "LOCAL_DATA_PATH = './data/History'"
   ]
  },
  {
   "cell_type": "code",
   "execution_count": 2,
   "id": "3583070e",
   "metadata": {},
   "outputs": [],
   "source": [
    "auth_net = pl.scan_csv(f'{LOCAL_DATA_PATH}/ssn_paper_authors.csv', separator=',')\n",
    "cite_net = pl.scan_csv(f'{LOCAL_DATA_PATH}/ssn_paper_refs.csv', separator=',')"
   ]
  },
  {
   "cell_type": "code",
   "execution_count": 3,
   "id": "1532713b",
   "metadata": {},
   "outputs": [
    {
     "data": {
      "text/html": [
       "<div><style>\n",
       ".dataframe > thead > tr,\n",
       ".dataframe > tbody > tr {\n",
       "  text-align: right;\n",
       "  white-space: pre-wrap;\n",
       "}\n",
       "</style>\n",
       "<small>shape: (10, 4)</small><table border=\"1\" class=\"dataframe\"><thead><tr><th>PaperID</th><th>AuthorID</th><th>AffiliationID</th><th>AuthorSequenceNumber</th></tr><tr><td>i64</td><td>i64</td><td>f64</td><td>i64</td></tr></thead><tbody><tr><td>587241</td><td>2263987875</td><td>null</td><td>1</td></tr><tr><td>587241</td><td>3211722442</td><td>null</td><td>2</td></tr><tr><td>1022736</td><td>2618912518</td><td>null</td><td>1</td></tr><tr><td>1246380</td><td>2673776004</td><td>null</td><td>1</td></tr><tr><td>2795301</td><td>3119558885</td><td>null</td><td>1</td></tr><tr><td>5159116</td><td>2104723406</td><td>1.34820265e8</td><td>1</td></tr><tr><td>5504347</td><td>2506040316</td><td>null</td><td>1</td></tr><tr><td>5924287</td><td>2987485932</td><td>null</td><td>1</td></tr><tr><td>8765881</td><td>2283045556</td><td>null</td><td>1</td></tr><tr><td>8765881</td><td>2680658348</td><td>null</td><td>2</td></tr></tbody></table></div>"
      ],
      "text/plain": [
       "shape: (10, 4)\n",
       "┌─────────┬────────────┬───────────────┬──────────────────────┐\n",
       "│ PaperID ┆ AuthorID   ┆ AffiliationID ┆ AuthorSequenceNumber │\n",
       "│ ---     ┆ ---        ┆ ---           ┆ ---                  │\n",
       "│ i64     ┆ i64        ┆ f64           ┆ i64                  │\n",
       "╞═════════╪════════════╪═══════════════╪══════════════════════╡\n",
       "│ 587241  ┆ 2263987875 ┆ null          ┆ 1                    │\n",
       "│ 587241  ┆ 3211722442 ┆ null          ┆ 2                    │\n",
       "│ 1022736 ┆ 2618912518 ┆ null          ┆ 1                    │\n",
       "│ 1246380 ┆ 2673776004 ┆ null          ┆ 1                    │\n",
       "│ …       ┆ …          ┆ …             ┆ …                    │\n",
       "│ 5504347 ┆ 2506040316 ┆ null          ┆ 1                    │\n",
       "│ 5924287 ┆ 2987485932 ┆ null          ┆ 1                    │\n",
       "│ 8765881 ┆ 2283045556 ┆ null          ┆ 1                    │\n",
       "│ 8765881 ┆ 2680658348 ┆ null          ┆ 2                    │\n",
       "└─────────┴────────────┴───────────────┴──────────────────────┘"
      ]
     },
     "execution_count": 3,
     "metadata": {},
     "output_type": "execute_result"
    }
   ],
   "source": [
    "auth_net[:10].collect()"
   ]
  },
  {
   "cell_type": "code",
   "execution_count": 4,
   "id": "32e1efb3",
   "metadata": {},
   "outputs": [
    {
     "data": {
      "text/html": [
       "<div><style>\n",
       ".dataframe > thead > tr,\n",
       ".dataframe > tbody > tr {\n",
       "  text-align: right;\n",
       "  white-space: pre-wrap;\n",
       "}\n",
       "</style>\n",
       "<small>shape: (10, 3)</small><table border=\"1\" class=\"dataframe\"><thead><tr><th>Citing_PaperID</th><th>Cited_PaperID</th><th>CitationDate</th></tr><tr><td>i64</td><td>i64</td><td>str</td></tr></thead><tbody><tr><td>2947083361</td><td>1977784628</td><td>&quot;2019-01-01&quot;</td></tr><tr><td>2991573790</td><td>2939648321</td><td>&quot;2019-01-01&quot;</td></tr><tr><td>2997498118</td><td>2940084900</td><td>&quot;2019-01-01&quot;</td></tr><tr><td>2997370306</td><td>2981802544</td><td>&quot;2019-01-01&quot;</td></tr><tr><td>2997370306</td><td>2946707887</td><td>&quot;2019-01-01&quot;</td></tr><tr><td>2997148192</td><td>2997092020</td><td>&quot;2019-01-01&quot;</td></tr><tr><td>2997148192</td><td>2943952542</td><td>&quot;2019-01-01&quot;</td></tr><tr><td>3111404574</td><td>2999915826</td><td>&quot;2019-01-01&quot;</td></tr><tr><td>3111067421</td><td>2911624371</td><td>&quot;2019-01-01&quot;</td></tr><tr><td>2997148192</td><td>376344434</td><td>&quot;2019-01-01&quot;</td></tr></tbody></table></div>"
      ],
      "text/plain": [
       "shape: (10, 3)\n",
       "┌────────────────┬───────────────┬──────────────┐\n",
       "│ Citing_PaperID ┆ Cited_PaperID ┆ CitationDate │\n",
       "│ ---            ┆ ---           ┆ ---          │\n",
       "│ i64            ┆ i64           ┆ str          │\n",
       "╞════════════════╪═══════════════╪══════════════╡\n",
       "│ 2947083361     ┆ 1977784628    ┆ 2019-01-01   │\n",
       "│ 2991573790     ┆ 2939648321    ┆ 2019-01-01   │\n",
       "│ 2997498118     ┆ 2940084900    ┆ 2019-01-01   │\n",
       "│ 2997370306     ┆ 2981802544    ┆ 2019-01-01   │\n",
       "│ …              ┆ …             ┆ …            │\n",
       "│ 2997148192     ┆ 2943952542    ┆ 2019-01-01   │\n",
       "│ 3111404574     ┆ 2999915826    ┆ 2019-01-01   │\n",
       "│ 3111067421     ┆ 2911624371    ┆ 2019-01-01   │\n",
       "│ 2997148192     ┆ 376344434     ┆ 2019-01-01   │\n",
       "└────────────────┴───────────────┴──────────────┘"
      ]
     },
     "execution_count": 4,
     "metadata": {},
     "output_type": "execute_result"
    }
   ],
   "source": [
    "cite_net.sort(\"CitationDate\")[:10].collect()"
   ]
  },
  {
   "cell_type": "code",
   "execution_count": 5,
   "id": "54ed400e",
   "metadata": {},
   "outputs": [
    {
     "data": {
      "text/html": [
       "<div><style>\n",
       ".dataframe > thead > tr,\n",
       ".dataframe > tbody > tr {\n",
       "  text-align: right;\n",
       "  white-space: pre-wrap;\n",
       "}\n",
       "</style>\n",
       "<small>shape: (25_149, 9)</small><table border=\"1\" class=\"dataframe\"><thead><tr><th>Citing_PaperID</th><th>Cited_PaperID</th><th>CitationDate</th><th>Citing_AuthorID</th><th>Citing_AffiliationID</th><th>Citing_AuthorSequenceNumber</th><th>Cited_AuthorID</th><th>Cited_AffiliationID</th><th>Cited_AuthorSequenceNumber</th></tr><tr><td>i64</td><td>i64</td><td>str</td><td>i64</td><td>f64</td><td>i64</td><td>i64</td><td>f64</td><td>i64</td></tr></thead><tbody><tr><td>2974912297</td><td>291320079</td><td>&quot;2019-01-01&quot;</td><td>2995574826</td><td>null</td><td>1</td><td>2119766304</td><td>null</td><td>1</td></tr><tr><td>2967191196</td><td>376344434</td><td>&quot;2019-01-01&quot;</td><td>2967420241</td><td>1.1701301e7</td><td>1</td><td>2118051611</td><td>null</td><td>1</td></tr><tr><td>2997148192</td><td>376344434</td><td>&quot;2019-01-01&quot;</td><td>2987284292</td><td>null</td><td>1</td><td>2118051611</td><td>null</td><td>1</td></tr><tr><td>2973048827</td><td>565054991</td><td>&quot;2019-01-01&quot;</td><td>3173553483</td><td>883357.0</td><td>1</td><td>211881252</td><td>null</td><td>1</td></tr><tr><td>2973048827</td><td>565054991</td><td>&quot;2019-01-01&quot;</td><td>3173553483</td><td>883357.0</td><td>1</td><td>2946999897</td><td>null</td><td>3</td></tr><tr><td>2973048827</td><td>565054991</td><td>&quot;2019-01-01&quot;</td><td>3173553483</td><td>883357.0</td><td>1</td><td>3157821370</td><td>null</td><td>2</td></tr><tr><td>2979444285</td><td>568305466</td><td>&quot;2019-01-01&quot;</td><td>2287590710</td><td>null</td><td>1</td><td>2032850205</td><td>null</td><td>1</td></tr><tr><td>2969077039</td><td>569479482</td><td>&quot;2019-01-01&quot;</td><td>2967383879</td><td>null</td><td>4</td><td>2013158504</td><td>null</td><td>2</td></tr><tr><td>2969077039</td><td>569479482</td><td>&quot;2019-01-01&quot;</td><td>2968641274</td><td>null</td><td>3</td><td>2013158504</td><td>null</td><td>2</td></tr><tr><td>2969077039</td><td>569479482</td><td>&quot;2019-01-01&quot;</td><td>2968675149</td><td>null</td><td>1</td><td>2013158504</td><td>null</td><td>2</td></tr><tr><td>2969077039</td><td>569479482</td><td>&quot;2019-01-01&quot;</td><td>2969125452</td><td>null</td><td>2</td><td>2013158504</td><td>null</td><td>2</td></tr><tr><td>2969077039</td><td>569479482</td><td>&quot;2019-01-01&quot;</td><td>2967383879</td><td>null</td><td>4</td><td>2120946375</td><td>null</td><td>1</td></tr><tr><td>&hellip;</td><td>&hellip;</td><td>&hellip;</td><td>&hellip;</td><td>&hellip;</td><td>&hellip;</td><td>&hellip;</td><td>&hellip;</td><td>&hellip;</td></tr><tr><td>3114046113</td><td>3117991758</td><td>&quot;2020-12-31&quot;</td><td>3118153406</td><td>null</td><td>1</td><td>2482701919</td><td>4.654613e6</td><td>1</td></tr><tr><td>3088219483</td><td>3162306048</td><td>&quot;2020-12-31&quot;</td><td>3088170548</td><td>3.9063666e7</td><td>1</td><td>260978479</td><td>1.78535277e8</td><td>1</td></tr><tr><td>3184295953</td><td>3186403897</td><td>&quot;2020-12-31&quot;</td><td>98474583</td><td>7.2373871e7</td><td>1</td><td>98474583</td><td>null</td><td>2</td></tr><tr><td>3184295953</td><td>3186403897</td><td>&quot;2020-12-31&quot;</td><td>98474583</td><td>7.2373871e7</td><td>1</td><td>2495011202</td><td>null</td><td>1</td></tr><tr><td>3114705254</td><td>3197718025</td><td>&quot;2020-12-31&quot;</td><td>2111768926</td><td>5.6590836e7</td><td>1</td><td>2507884723</td><td>1.30701444e8</td><td>1</td></tr><tr><td>3201553501</td><td>3201020507</td><td>&quot;2020-12-31&quot;</td><td>1978606981</td><td>5.681781e6</td><td>1</td><td>2250570040</td><td>1.29604602e8</td><td>1</td></tr><tr><td>3201553501</td><td>3201020507</td><td>&quot;2020-12-31&quot;</td><td>1978606981</td><td>5.681781e6</td><td>1</td><td>2250570040</td><td>1.77877127e8</td><td>1</td></tr><tr><td>3201553501</td><td>3201020507</td><td>&quot;2020-12-31&quot;</td><td>1978606981</td><td>5.681781e6</td><td>1</td><td>3201365896</td><td>9.9043593e7</td><td>2</td></tr><tr><td>3201020507</td><td>3201553501</td><td>&quot;2020-12-31&quot;</td><td>2250570040</td><td>1.29604602e8</td><td>1</td><td>1978606981</td><td>5.681781e6</td><td>1</td></tr><tr><td>3201020507</td><td>3201553501</td><td>&quot;2020-12-31&quot;</td><td>2250570040</td><td>1.77877127e8</td><td>1</td><td>1978606981</td><td>5.681781e6</td><td>1</td></tr><tr><td>3201020507</td><td>3201553501</td><td>&quot;2020-12-31&quot;</td><td>3201365896</td><td>9.9043593e7</td><td>2</td><td>1978606981</td><td>5.681781e6</td><td>1</td></tr><tr><td>3114968666</td><td>3204949076</td><td>&quot;2020-12-31&quot;</td><td>2969824724</td><td>1.6835326e7</td><td>1</td><td>2138229244</td><td>null</td><td>1</td></tr></tbody></table></div>"
      ],
      "text/plain": [
       "shape: (25_149, 9)\n",
       "┌──────────────┬──────────────┬──────────────┬─────────────┬───┬─────────────┬─────────────┬─────────────┬─────────────┐\n",
       "│ Citing_Paper ┆ Cited_PaperI ┆ CitationDate ┆ Citing_Auth ┆ … ┆ Citing_Auth ┆ Cited_Autho ┆ Cited_Affil ┆ Cited_Autho │\n",
       "│ ID           ┆ D            ┆ ---          ┆ orID        ┆   ┆ orSequenceN ┆ rID         ┆ iationID    ┆ rSequenceNu │\n",
       "│ ---          ┆ ---          ┆ str          ┆ ---         ┆   ┆ umber       ┆ ---         ┆ ---         ┆ mber        │\n",
       "│ i64          ┆ i64          ┆              ┆ i64         ┆   ┆ ---         ┆ i64         ┆ f64         ┆ ---         │\n",
       "│              ┆              ┆              ┆             ┆   ┆ i64         ┆             ┆             ┆ i64         │\n",
       "╞══════════════╪══════════════╪══════════════╪═════════════╪═══╪═════════════╪═════════════╪═════════════╪═════════════╡\n",
       "│ 2974912297   ┆ 291320079    ┆ 2019-01-01   ┆ 2995574826  ┆ … ┆ 1           ┆ 2119766304  ┆ null        ┆ 1           │\n",
       "│ 2967191196   ┆ 376344434    ┆ 2019-01-01   ┆ 2967420241  ┆ … ┆ 1           ┆ 2118051611  ┆ null        ┆ 1           │\n",
       "│ 2997148192   ┆ 376344434    ┆ 2019-01-01   ┆ 2987284292  ┆ … ┆ 1           ┆ 2118051611  ┆ null        ┆ 1           │\n",
       "│ 2973048827   ┆ 565054991    ┆ 2019-01-01   ┆ 3173553483  ┆ … ┆ 1           ┆ 211881252   ┆ null        ┆ 1           │\n",
       "│ …            ┆ …            ┆ …            ┆ …           ┆ … ┆ …           ┆ …           ┆ …           ┆ …           │\n",
       "│ 3201020507   ┆ 3201553501   ┆ 2020-12-31   ┆ 2250570040  ┆ … ┆ 1           ┆ 1978606981  ┆ 5.681781e6  ┆ 1           │\n",
       "│ 3201020507   ┆ 3201553501   ┆ 2020-12-31   ┆ 2250570040  ┆ … ┆ 1           ┆ 1978606981  ┆ 5.681781e6  ┆ 1           │\n",
       "│ 3201020507   ┆ 3201553501   ┆ 2020-12-31   ┆ 3201365896  ┆ … ┆ 2           ┆ 1978606981  ┆ 5.681781e6  ┆ 1           │\n",
       "│ 3114968666   ┆ 3204949076   ┆ 2020-12-31   ┆ 2969824724  ┆ … ┆ 1           ┆ 2138229244  ┆ null        ┆ 1           │\n",
       "└──────────────┴──────────────┴──────────────┴─────────────┴───┴─────────────┴─────────────┴─────────────┴─────────────┘"
      ]
     },
     "execution_count": 5,
     "metadata": {},
     "output_type": "execute_result"
    }
   ],
   "source": [
    "res = cite_net.join(auth_net, left_on = 'Citing_PaperID', right_on = 'PaperID', how = 'inner')\n",
    "res = res.rename({\"AuthorID\": \"Citing_AuthorID\", \"AffiliationID\": \"Citing_AffiliationID\", \"AuthorSequenceNumber\": \"Citing_AuthorSequenceNumber\"})\n",
    "res = res.join(auth_net, left_on = 'Cited_PaperID', right_on = 'PaperID', how = 'inner')\n",
    "res = res.rename({\"AuthorID\": \"Cited_AuthorID\", \"AffiliationID\": \"Cited_AffiliationID\", \"AuthorSequenceNumber\": \"Cited_AuthorSequenceNumber\"})\n",
    "res = res.sort(\"CitationDate\")\n",
    "res.collect()"
   ]
  },
  {
   "cell_type": "code",
   "execution_count": 8,
   "id": "e8bfcbce",
   "metadata": {},
   "outputs": [],
   "source": [
    "# save the full table\n",
    "res.sink_csv(f'{LOCAL_DATA_PATH}/ssn_author_ref_combined.csv')"
   ]
  },
  {
   "cell_type": "code",
   "execution_count": 9,
   "id": "09a1d3f5",
   "metadata": {},
   "outputs": [],
   "source": [
    "# a simplied form with only the edge info\n",
    "simplified_res = res.select(['Citing_PaperID', 'Cited_PaperID'])\n",
    "simplified_res.sink_csv(f'{LOCAL_DATA_PATH}/simplified_ssn_author_ref_combined.csv')"
   ]
  },
  {
   "cell_type": "code",
   "execution_count": 2,
   "id": "7d83b0ef",
   "metadata": {},
   "outputs": [
    {
     "name": "stdout",
     "output_type": "stream",
     "text": [
      "      Citing_PaperID  Cited_PaperID CitationDate  Citing_AuthorID  \\\n",
      "0         2974912297      291320079   2019-01-01       2995574826   \n",
      "1         2967191196      376344434   2019-01-01       2967420241   \n",
      "2         2997148192      376344434   2019-01-01       2987284292   \n",
      "3         2973048827      565054991   2019-01-01       3173553483   \n",
      "4         2973048827      565054991   2019-01-01       3173553483   \n",
      "...              ...            ...          ...              ...   \n",
      "5875      2998056687     3039815431   2019-12-31       2297037455   \n",
      "5876      2998056687     3039815431   2019-12-31       2297037455   \n",
      "5877      2998056687     3039815431   2019-12-31       2297037455   \n",
      "5878      2998056687     3039815431   2019-12-31       2297037455   \n",
      "5879      2998056687     3039815431   2019-12-31       2297037455   \n",
      "\n",
      "      Citing_AffiliationID  Citing_AuthorSequenceNumber  Cited_AuthorID  \\\n",
      "0                      NaN                            1      2119766304   \n",
      "1               11701301.0                            1      2118051611   \n",
      "2                      NaN                            1      2118051611   \n",
      "3                 883357.0                            1       211881252   \n",
      "4                 883357.0                            1      2946999897   \n",
      "...                    ...                          ...             ...   \n",
      "5875                   NaN                            1      2587211792   \n",
      "5876                   NaN                            1      2598718647   \n",
      "5877                   NaN                            1      2611970759   \n",
      "5878                   NaN                            1      3038383251   \n",
      "5879                   NaN                            1      3206784406   \n",
      "\n",
      "      Cited_AffiliationID  Cited_AuthorSequenceNumber  \n",
      "0                     NaN                           1  \n",
      "1                     NaN                           1  \n",
      "2                     NaN                           1  \n",
      "3                     NaN                           1  \n",
      "4                     NaN                           3  \n",
      "...                   ...                         ...  \n",
      "5875         2.802364e+09                           4  \n",
      "5876         4.034717e+07                           3  \n",
      "5877         4.034717e+07                           2  \n",
      "5878         4.034717e+07                           1  \n",
      "5879         5.593117e+07                           6  \n",
      "\n",
      "[5880 rows x 9 columns]\n",
      "Graph with 8331 nodes and 6055 edges\n",
      "Graph with 8331 nodes and 1479 edges\n"
     ]
    }
   ],
   "source": [
    "from read_networks import read_combined_graph_from_csv\n",
    "G_simple, G_init, _ = read_combined_graph_from_csv(field='History', graph=nx.Graph())\n",
    "print(G_simple)\n",
    "print(G_init)"
   ]
  },
  {
   "cell_type": "code",
   "execution_count": 3,
   "id": "9224c846",
   "metadata": {},
   "outputs": [],
   "source": [
    "import pandas as pd\n",
    "pd.options.display.max_columns = 20\n",
    "import numpy as np\n",
    "rng = np.random.RandomState(seed=5)\n",
    "ints = rng.randint(1, 11, size=(3, 2))\n",
    "a = [\"A\", \"B\", \"C\"]\n",
    "b = [\"D\", \"A\", \"E\"]\n",
    "df = pd.DataFrame(ints, columns=[\"weight\", \"cost\"])\n",
    "df[0] = a\n",
    "df[\"b\"] = b\n",
    "df[[\"weight\", \"cost\", 0, \"b\"]]\n",
    "G = nx.from_pandas_edgelist(df, 0, \"b\", [\"weight\", \"cost\"])"
   ]
  },
  {
   "cell_type": "code",
   "execution_count": 5,
   "id": "ef2d7e87",
   "metadata": {},
   "outputs": [
    {
     "name": "stdout",
     "output_type": "stream",
     "text": [
      "0        2974912297\n",
      "1        2967191196\n",
      "2        2997148192\n",
      "3        2973048827\n",
      "4        2973048827\n",
      "            ...    \n",
      "25144    3081119705\n",
      "25145    3118959478\n",
      "25146    3118959478\n",
      "25147    3118959478\n",
      "25148    3119629698\n",
      "Name: Citing_PaperID, Length: 25149, dtype: int64\n"
     ]
    }
   ],
   "source": [
    "import pandas as pd\n",
    "df = pd.read_csv('data/History/ssn_author_ref_combined.csv', sep=',')\n",
    "print(df['Citing_PaperID'])"
   ]
  },
  {
   "cell_type": "code",
   "execution_count": null,
   "id": "73e50e51",
   "metadata": {},
   "outputs": [],
   "source": []
  }
 ],
 "metadata": {
  "kernelspec": {
   "display_name": "Python 3 (ipykernel)",
   "language": "python",
   "name": "python3"
  },
  "language_info": {
   "codemirror_mode": {
    "name": "ipython",
    "version": 3
   },
   "file_extension": ".py",
   "mimetype": "text/x-python",
   "name": "python",
   "nbconvert_exporter": "python",
   "pygments_lexer": "ipython3",
   "version": "3.8.12"
  }
 },
 "nbformat": 4,
 "nbformat_minor": 5
}
